{
 "cells": [
  {
   "cell_type": "code",
   "execution_count": 1,
   "id": "4a36d458-5edd-497a-b491-794aed8a57bd",
   "metadata": {},
   "outputs": [],
   "source": [
    "# Data Exploration for Time Series\n",
    "import pandas as pd\n",
    "import numpy as np\n",
    "import seaborn as sns\n",
    "import matplotlib.pyplot as plt\n",
    "import sklearn"
   ]
  },
  {
   "cell_type": "code",
   "execution_count": 2,
   "id": "20ae175f-d586-45e9-b003-3df7122b4b42",
   "metadata": {},
   "outputs": [],
   "source": [
    "# Loading US Foreign Aid data\n",
    "us_foreign_aid = pd.read_csv('./data/us_foreign_aid_country.csv')"
   ]
  },
  {
   "cell_type": "code",
   "execution_count": 3,
   "id": "3190eeff-cc07-40e8-9003-299cade17517",
   "metadata": {},
   "outputs": [],
   "source": [
    "# agriculture\n",
    "aggriculture_df = pd.read_csv('./data/NV.AGR.TOTL.ZS.csv',  skiprows=4)\n",
    "aggriculture_df = aggriculture_df.set_index(['Country Name', 'Country Code', 'Indicator Name', 'Indicator Code'])\n",
    "aggriculture_df = aggriculture_df.stack()\n",
    "aggriculture_df = aggriculture_df.reset_index()\n",
    "aggriculture_df.columns = ['country_name','country_code','indicator_name','indicator_code','year','agriculture']\n",
    "aggriculture_df = aggriculture_df.dropna()\n",
    "aggriculture_df = aggriculture_df[['country_name','year','agriculture']]\n",
    "aggriculture_df = aggriculture_df.set_index(['country_name','year'])"
   ]
  },
  {
   "cell_type": "code",
   "execution_count": 4,
   "id": "47e546df-ee02-4ca5-80d3-c32e33d3fd05",
   "metadata": {},
   "outputs": [],
   "source": [
    "# Coal rents\n",
    "coal_df = pd.read_csv('./data/NY.GDP.COAL.RT.ZS.csv',  skiprows=4)\n",
    "coal_df = coal_df.set_index(['Country Name', 'Country Code', 'Indicator Name', 'Indicator Code'])\n",
    "coal_df = coal_df.stack()\n",
    "coal_df = coal_df.reset_index()\n",
    "coal_df.columns = ['country_name','country_code','indicator_name','indicator_code','year','coal']\n",
    "coal_df = coal_df.dropna()\n",
    "coal_df = coal_df[['country_name','year','coal']]\n",
    "coal_df = coal_df.set_index(['country_name','year'])"
   ]
  },
  {
   "cell_type": "code",
   "execution_count": 5,
   "id": "60af7ace-0ab6-4e00-bc69-e0032f1b8476",
   "metadata": {},
   "outputs": [],
   "source": [
    "# Domestic general government health expenditure\n",
    "health_df = pd.read_csv('./data/SH.XPD.GHED.GD.ZS.csv',  skiprows=4)\n",
    "health_df = health_df.set_index(['Country Name', 'Country Code', 'Indicator Name', 'Indicator Code'])\n",
    "health_df = health_df.stack()\n",
    "health_df = health_df.reset_index()\n",
    "health_df.columns = ['country_name','country_code','indicator_name','indicator_code','year','health']\n",
    "health_df = health_df.dropna()\n",
    "health_df = health_df[['country_name','year','health']]\n",
    "health_df = health_df.set_index(['country_name','year'])"
   ]
  },
  {
   "cell_type": "code",
   "execution_count": 6,
   "id": "020659a9-f0e5-459e-9c44-0aab98630e05",
   "metadata": {},
   "outputs": [],
   "source": [
    "# Exports of goods and services\n",
    "EXgoodsANDservices_df = pd.read_csv('./data/NE.EXP.GNFS.ZS.csv',  skiprows=4)\n",
    "EXgoodsANDservices_df = EXgoodsANDservices_df.set_index(['Country Name', 'Country Code', 'Indicator Name', 'Indicator Code'])\n",
    "EXgoodsANDservices_df = EXgoodsANDservices_df.stack()\n",
    "EXgoodsANDservices_df = EXgoodsANDservices_df.reset_index()\n",
    "EXgoodsANDservices_df.columns = ['country_name','country_code','indicator_name','indicator_code','year','Exports_of_goods_and_services']\n",
    "EXgoodsANDservices_df = EXgoodsANDservices_df.dropna()\n",
    "EXgoodsANDservices_df = EXgoodsANDservices_df[['country_name','year','Exports_of_goods_and_services']]\n",
    "EXgoodsANDservices_df = EXgoodsANDservices_df.set_index(['country_name','year'])"
   ]
  },
  {
   "cell_type": "code",
   "execution_count": 7,
   "id": "75b1fb59-60af-46fd-b494-046b37fb1dbe",
   "metadata": {},
   "outputs": [],
   "source": [
    "# Final consumption expenditure \n",
    "consumption_df = pd.read_csv('./data/NE.CON.TOTL.ZS.csv',  skiprows=4)\n",
    "consumption_df = consumption_df.set_index(['Country Name', 'Country Code', 'Indicator Name', 'Indicator Code'])\n",
    "consumption_df = consumption_df.stack()\n",
    "consumption_df = consumption_df.reset_index()\n",
    "consumption_df.columns = ['country_name','country_code','indicator_name','indicator_code','year','consumption_expenditure']\n",
    "consumption_df = consumption_df.dropna()\n",
    "consumption_df = consumption_df[['country_name','year','consumption_expenditure']]\n",
    "consumption_df = consumption_df.set_index(['country_name','year'])"
   ]
  },
  {
   "cell_type": "code",
   "execution_count": 8,
   "id": "d3699ea7-b4a9-4c58-9b3a-f15d5179fec5",
   "metadata": {},
   "outputs": [],
   "source": [
    "# GDP per person employed\n",
    "GDPperperson_df = pd.read_csv('./data/SL.GDP.PCAP.EM.KD.csv',  skiprows=4)\n",
    "GDPperperson_df = GDPperperson_df.set_index(['Country Name', 'Country Code', 'Indicator Name', 'Indicator Code'])\n",
    "GDPperperson_df = GDPperperson_df.stack()\n",
    "GDPperperson_df = GDPperperson_df.reset_index()\n",
    "GDPperperson_df.columns = ['country_name','country_code','indicator_name','indicator_code','year','GDP_per_person_employed']\n",
    "GDPperperson_df = GDPperperson_df.dropna()\n",
    "GDPperperson_df = GDPperperson_df[['country_name','year','GDP_per_person_employed']]\n",
    "GDPperperson_df = GDPperperson_df.set_index(['country_name','year'])"
   ]
  },
  {
   "cell_type": "code",
   "execution_count": 9,
   "id": "e3d4bc1b-4d25-40f3-a319-dd4c024cf74e",
   "metadata": {},
   "outputs": [],
   "source": [
    "# General government final consumption expenditure \n",
    "gov_consumption_df  = pd.read_csv('./data/NE.CON.GOVT.ZS.csv',  skiprows=4)\n",
    "gov_consumption_df = gov_consumption_df.set_index(['Country Name', 'Country Code', 'Indicator Name', 'Indicator Code'])\n",
    "gov_consumption_df = gov_consumption_df.stack()\n",
    "gov_consumption_df = gov_consumption_df.reset_index()\n",
    "gov_consumption_df.columns = ['country_name','country_code','indicator_name','indicator_code','year','General_government_final_consumption_expenditure']\n",
    "gov_consumption_df = gov_consumption_df.dropna()\n",
    "gov_consumption_df = gov_consumption_df[['country_name','year','General_government_final_consumption_expenditure']]\n",
    "gov_consumption_df = gov_consumption_df.set_index(['country_name','year'])"
   ]
  },
  {
   "cell_type": "code",
   "execution_count": 10,
   "id": "4a24ef7e-51ff-4910-b4da-8621b89d09c7",
   "metadata": {},
   "outputs": [],
   "source": [
    "# Imports of goods and services\n",
    "ImpgoodsAND_services_df = pd.read_csv('./data/NE.IMP.GNFS.ZS.csv',  skiprows=4)\n",
    "ImpgoodsAND_services_df = ImpgoodsAND_services_df.set_index(['Country Name', 'Country Code', 'Indicator Name', 'Indicator Code'])\n",
    "ImpgoodsAND_services_df = ImpgoodsAND_services_df.stack()\n",
    "ImpgoodsAND_services_df = ImpgoodsAND_services_df.reset_index()\n",
    "ImpgoodsAND_services_df.columns = ['country_name','country_code','indicator_name','indicator_code','year','Imports_of_goods_and_services']\n",
    "ImpgoodsAND_services_df = ImpgoodsAND_services_df.dropna()\n",
    "ImpgoodsAND_services_df = ImpgoodsAND_services_df[['country_name','year','Imports_of_goods_and_services']]\n",
    "ImpgoodsAND_services_df = ImpgoodsAND_services_df.set_index(['country_name','year'])"
   ]
  },
  {
   "cell_type": "code",
   "execution_count": 11,
   "id": "690f6a4f-4b63-4c4d-b9bc-b8841aa306b8",
   "metadata": {},
   "outputs": [],
   "source": [
    "# Manufacturing, value added\n",
    "Manufacturing_df = pd.read_csv('./data/NV.IND.MANF.ZS.csv',  skiprows=4)\n",
    "Manufacturing_df = Manufacturing_df.set_index(['Country Name', 'Country Code', 'Indicator Name', 'Indicator Code'])\n",
    "Manufacturing_df = Manufacturing_df.stack()\n",
    "Manufacturing_df = Manufacturing_df.reset_index()\n",
    "Manufacturing_df.columns = ['country_name','country_code','indicator_name','indicator_code','year','Manufacturing']\n",
    "Manufacturing_df = Manufacturing_df.dropna()\n",
    "Manufacturing_df = Manufacturing_df[['country_name','year','Manufacturing']]\n",
    "Manufacturing_df = Manufacturing_df.set_index(['country_name','year'])"
   ]
  },
  {
   "cell_type": "code",
   "execution_count": 12,
   "id": "cb8c24ef-7382-42c1-b861-564f775de813",
   "metadata": {},
   "outputs": [],
   "source": [
    "# Mineral rents \n",
    "mineral_rent_df = pd.read_csv('./data/NY.GDP.MINR.RT.ZS.csv',  skiprows=4)\n",
    "mineral_rent_df = mineral_rent_df.set_index(['Country Name', 'Country Code', 'Indicator Name', 'Indicator Code'])\n",
    "mineral_rent_df = mineral_rent_df.stack()\n",
    "mineral_rent_df = mineral_rent_df.reset_index()\n",
    "mineral_rent_df.columns = ['country_name','country_code','indicator_name','indicator_code','year','Minerals']\n",
    "mineral_rent_df = mineral_rent_df.dropna()\n",
    "mineral_rent_df = mineral_rent_df[['country_name','year','Minerals']]\n",
    "mineral_rent_df = mineral_rent_df.set_index(['country_name','year'])"
   ]
  },
  {
   "cell_type": "code",
   "execution_count": 13,
   "id": "8f6c2afc-28e7-4c86-b697-8dd1b6660dea",
   "metadata": {},
   "outputs": [],
   "source": [
    "# Personal remittances, received \n",
    "personal_remittances_df = pd.read_csv('./data/BX.TRF.PWKR.DT.GD.ZS.csv',  skiprows=4)\n",
    "personal_remittances_df = personal_remittances_df.set_index(['Country Name', 'Country Code', 'Indicator Name', 'Indicator Code'])\n",
    "personal_remittances_df = personal_remittances_df.stack()\n",
    "personal_remittances_df = personal_remittances_df.reset_index()\n",
    "personal_remittances_df.columns = ['country_name','country_code','indicator_name','indicator_code','year','remittances']\n",
    "personal_remittances_df = personal_remittances_df.dropna()\n",
    "personal_remittances_df = personal_remittances_df[['country_name','year','remittances']]\n",
    "personal_remittances_df = personal_remittances_df.set_index(['country_name','year'])"
   ]
  },
  {
   "cell_type": "code",
   "execution_count": 14,
   "id": "4b1db3a2-6328-4f80-89f2-35dc15683495",
   "metadata": {},
   "outputs": [],
   "source": [
    "# Total natural resources rents \n",
    "resources_rents_df = pd.read_csv('./data/NY.GDP.TOTL.RT.ZS.csv',  skiprows=4)\n",
    "resources_rents_df = resources_rents_df.set_index(['Country Name', 'Country Code', 'Indicator Name', 'Indicator Code'])\n",
    "resources_rents_df = resources_rents_df.stack()\n",
    "resources_rents_df = resources_rents_df.reset_index()\n",
    "resources_rents_df.columns = ['country_name','country_code','indicator_name','indicator_code','year','natural_resources']\n",
    "resources_rents_df = resources_rents_df.dropna()\n",
    "resources_rents_df = resources_rents_df[['country_name','year','natural_resources']]\n",
    "resources_rents_df = resources_rents_df.set_index(['country_name','year'])"
   ]
  },
  {
   "cell_type": "code",
   "execution_count": 15,
   "id": "736b96f7-f28c-4b3c-9b26-e127fff65fb9",
   "metadata": {},
   "outputs": [],
   "source": [
    "# Current account balance \n",
    "account_balance_df = pd.read_csv('./data/BN.CAB.XOKA.GD.ZS.csv',  skiprows=4)\n",
    "account_balance_df = account_balance_df.set_index(['Country Name', 'Country Code', 'Indicator Name', 'Indicator Code'])\n",
    "account_balance_df = account_balance_df.stack()\n",
    "account_balance_df = account_balance_df.reset_index()\n",
    "account_balance_df.columns = ['country_name','country_code','indicator_name','indicator_code','year','Current_balance']\n",
    "account_balance_df = account_balance_df.dropna()\n",
    "account_balance_df = account_balance_df[['country_name','year','Current_balance']]\n",
    "account_balance_df = account_balance_df.set_index(['country_name','year'])"
   ]
  },
  {
   "cell_type": "code",
   "execution_count": 16,
   "id": "f746ec2d-7d2f-4403-bea4-60ea2f146991",
   "metadata": {},
   "outputs": [],
   "source": [
    "# Domestic credit to private sector by banks \n",
    "domestic_credit_df = pd.read_csv('./data/FD.AST.PRVT.GD.ZS.csv',  skiprows=4)\n",
    "domestic_credit_df = domestic_credit_df.set_index(['Country Name', 'Country Code', 'Indicator Name', 'Indicator Code'])\n",
    "domestic_credit_df = domestic_credit_df.stack()\n",
    "domestic_credit_df = domestic_credit_df.reset_index()\n",
    "domestic_credit_df.columns = ['country_name','country_code','indicator_name','indicator_code','year','Domestic_credit']\n",
    "domestic_credit_df = domestic_credit_df.dropna()\n",
    "domestic_credit_df = domestic_credit_df[['country_name','year','Domestic_credit']]\n",
    "domestic_credit_df = domestic_credit_df.set_index(['country_name','year'])"
   ]
  },
  {
   "cell_type": "code",
   "execution_count": 17,
   "id": "911a4174-259b-42ac-b267-d8e37701bede",
   "metadata": {},
   "outputs": [],
   "source": [
    "# Forest rents \n",
    "forest_rents_df = pd.read_csv('./data/NY.GDP.FRST.RT.ZS.csv',  skiprows=4)\n",
    "forest_rents_df = forest_rents_df.set_index(['Country Name', 'Country Code', 'Indicator Name', 'Indicator Code'])\n",
    "forest_rents_df = forest_rents_df.stack()\n",
    "forest_rents_df = forest_rents_df.reset_index()\n",
    "forest_rents_df.columns = ['country_name','country_code','indicator_name','indicator_code','year','Forest']\n",
    "forest_rents_df = forest_rents_df.dropna()\n",
    "forest_rents_df = forest_rents_df[['country_name','year','Forest']]\n",
    "forest_rents_df = forest_rents_df.set_index(['country_name','year'])"
   ]
  },
  {
   "cell_type": "code",
   "execution_count": 18,
   "id": "6b834d31-49a4-48b2-9e5a-da4ebd0cf44e",
   "metadata": {},
   "outputs": [],
   "source": [
    "# GDP (current US$)\n",
    "gdp_df = pd.read_csv('./data/NY.GDP.MKTP.CD.csv',  skiprows=4)\n",
    "gdp_df = gdp_df.set_index(['Country Name', 'Country Code', 'Indicator Name', 'Indicator Code'])\n",
    "gdp_df = gdp_df.stack()\n",
    "gdp_df = gdp_df.reset_index()\n",
    "gdp_df.columns = ['country_name','country_code','indicator_name','indicator_code','year','GDP']\n",
    "gdp_df = gdp_df.dropna()\n",
    "gdp_df = gdp_df[['country_name','year','GDP']]\n",
    "gdp_df = gdp_df.set_index(['country_name','year'])"
   ]
  },
  {
   "cell_type": "code",
   "execution_count": 19,
   "id": "153c299b-1a22-49ec-a7f4-a60d88615705",
   "metadata": {},
   "outputs": [],
   "source": [
    "# Industry (including construction), value added (% of GDP) \n",
    "industry_df = pd.read_csv('./data/NV.IND.TOTL.ZS.csv',  skiprows=4)\n",
    "industry_df = industry_df.set_index(['Country Name', 'Country Code', 'Indicator Name', 'Indicator Code'])\n",
    "industry_df = industry_df.stack()\n",
    "industry_df = industry_df.reset_index()\n",
    "industry_df.columns = ['country_name','country_code','indicator_name','indicator_code','year','Industry']\n",
    "industry_df = industry_df.dropna()\n",
    "industry_df = industry_df[['country_name','year','Industry']]\n",
    "industry_df = industry_df.set_index(['country_name','year'])"
   ]
  },
  {
   "cell_type": "code",
   "execution_count": 20,
   "id": "a5e6054a-a7fb-486a-9f49-391d9873302a",
   "metadata": {},
   "outputs": [],
   "source": [
    "# Loading services \n",
    "services_df = pd.read_csv('./data/NV.SRV.TOTL.ZS.csv',  skiprows=4)\n",
    "services_df = services_df.set_index(['Country Name', 'Country Code', 'Indicator Name', 'Indicator Code'])\n",
    "services_df = services_df.stack()\n",
    "services_df = services_df.reset_index()\n",
    "services_df.columns = ['country_name','country_code','indicator_name','indicator_code','year','services']\n",
    "services_df = services_df.dropna()\n",
    "services_df = services_df[['country_name','year','services']]\n",
    "services_df = services_df.set_index(['country_name','year'])"
   ]
  },
  {
   "cell_type": "code",
   "execution_count": 21,
   "id": "433a9c11-2476-4498-a1fb-fa138a97d3da",
   "metadata": {},
   "outputs": [],
   "source": [
    "# Trade (% of GDP)  \n",
    "trade_df = pd.read_csv('./data/NE.TRD.GNFS.ZS.csv',  skiprows=4)\n",
    "trade_df = trade_df.set_index(['Country Name', 'Country Code', 'Indicator Name', 'Indicator Code'])\n",
    "trade_df = trade_df.stack()\n",
    "trade_df = trade_df.reset_index()\n",
    "trade_df.columns = ['country_name','country_code','indicator_name','indicator_code','year','Trade']\n",
    "trade_df = trade_df.dropna()\n",
    "trade_df = trade_df[['country_name','year','Trade']]\n",
    "trade_df = trade_df.set_index(['country_name','year'])"
   ]
  },
  {
   "cell_type": "code",
   "execution_count": 22,
   "id": "24bfc372-f8f4-4800-ab07-c771ab129394",
   "metadata": {},
   "outputs": [],
   "source": [
    "new_table = pd.concat([trade_df,services_df,industry_df,gdp_df,forest_rents_df,domestic_credit_df,account_balance_df,resources_rents_df,personal_remittances_df,mineral_rent_df,Manufacturing_df,ImpgoodsAND_services_df,gov_consumption_df,GDPperperson_df,consumption_df,EXgoodsANDservices_df,health_df,coal_df,aggriculture_df],axis=1)"
   ]
  },
  {
   "cell_type": "code",
   "execution_count": 23,
   "id": "d5bcf2bf-ccbb-4d84-8d21-d3fea255e882",
   "metadata": {},
   "outputs": [
    {
     "data": {
      "text/html": [
       "<div>\n",
       "<style scoped>\n",
       "    .dataframe tbody tr th:only-of-type {\n",
       "        vertical-align: middle;\n",
       "    }\n",
       "\n",
       "    .dataframe tbody tr th {\n",
       "        vertical-align: top;\n",
       "    }\n",
       "\n",
       "    .dataframe thead th {\n",
       "        text-align: right;\n",
       "    }\n",
       "</style>\n",
       "<table border=\"1\" class=\"dataframe\">\n",
       "  <thead>\n",
       "    <tr style=\"text-align: right;\">\n",
       "      <th></th>\n",
       "      <th></th>\n",
       "      <th>Trade</th>\n",
       "      <th>services</th>\n",
       "      <th>Industry</th>\n",
       "      <th>GDP</th>\n",
       "      <th>Forest</th>\n",
       "      <th>Domestic_credit</th>\n",
       "      <th>Current_balance</th>\n",
       "      <th>natural_resources</th>\n",
       "      <th>remittances</th>\n",
       "      <th>Minerals</th>\n",
       "      <th>Manufacturing</th>\n",
       "      <th>Imports_of_goods_and_services</th>\n",
       "      <th>General_government_final_consumption_expenditure</th>\n",
       "      <th>GDP_per_person_employed</th>\n",
       "      <th>consumption_expenditure</th>\n",
       "      <th>Exports_of_goods_and_services</th>\n",
       "      <th>health</th>\n",
       "      <th>coal</th>\n",
       "      <th>agriculture</th>\n",
       "    </tr>\n",
       "    <tr>\n",
       "      <th>country_name</th>\n",
       "      <th>year</th>\n",
       "      <th></th>\n",
       "      <th></th>\n",
       "      <th></th>\n",
       "      <th></th>\n",
       "      <th></th>\n",
       "      <th></th>\n",
       "      <th></th>\n",
       "      <th></th>\n",
       "      <th></th>\n",
       "      <th></th>\n",
       "      <th></th>\n",
       "      <th></th>\n",
       "      <th></th>\n",
       "      <th></th>\n",
       "      <th></th>\n",
       "      <th></th>\n",
       "      <th></th>\n",
       "      <th></th>\n",
       "      <th></th>\n",
       "    </tr>\n",
       "  </thead>\n",
       "  <tbody>\n",
       "    <tr>\n",
       "      <th rowspan=\"5\" valign=\"top\">Afghanistan</th>\n",
       "      <th>1960</th>\n",
       "      <td>11.157027</td>\n",
       "      <td>NaN</td>\n",
       "      <td>NaN</td>\n",
       "      <td>5.377778e+08</td>\n",
       "      <td>NaN</td>\n",
       "      <td>4.603305</td>\n",
       "      <td>NaN</td>\n",
       "      <td>NaN</td>\n",
       "      <td>NaN</td>\n",
       "      <td>NaN</td>\n",
       "      <td>NaN</td>\n",
       "      <td>7.024793</td>\n",
       "      <td>NaN</td>\n",
       "      <td>NaN</td>\n",
       "      <td>86.776852</td>\n",
       "      <td>4.132233</td>\n",
       "      <td>NaN</td>\n",
       "      <td>NaN</td>\n",
       "      <td>NaN</td>\n",
       "    </tr>\n",
       "    <tr>\n",
       "      <th>1961</th>\n",
       "      <td>12.550610</td>\n",
       "      <td>NaN</td>\n",
       "      <td>NaN</td>\n",
       "      <td>5.488889e+08</td>\n",
       "      <td>NaN</td>\n",
       "      <td>4.635627</td>\n",
       "      <td>NaN</td>\n",
       "      <td>NaN</td>\n",
       "      <td>NaN</td>\n",
       "      <td>NaN</td>\n",
       "      <td>NaN</td>\n",
       "      <td>8.097166</td>\n",
       "      <td>NaN</td>\n",
       "      <td>NaN</td>\n",
       "      <td>87.044526</td>\n",
       "      <td>4.453443</td>\n",
       "      <td>NaN</td>\n",
       "      <td>NaN</td>\n",
       "      <td>NaN</td>\n",
       "    </tr>\n",
       "    <tr>\n",
       "      <th>1962</th>\n",
       "      <td>14.227644</td>\n",
       "      <td>NaN</td>\n",
       "      <td>NaN</td>\n",
       "      <td>5.466667e+08</td>\n",
       "      <td>NaN</td>\n",
       "      <td>4.662602</td>\n",
       "      <td>NaN</td>\n",
       "      <td>NaN</td>\n",
       "      <td>NaN</td>\n",
       "      <td>NaN</td>\n",
       "      <td>NaN</td>\n",
       "      <td>9.349593</td>\n",
       "      <td>NaN</td>\n",
       "      <td>NaN</td>\n",
       "      <td>85.365850</td>\n",
       "      <td>4.878051</td>\n",
       "      <td>NaN</td>\n",
       "      <td>NaN</td>\n",
       "      <td>NaN</td>\n",
       "    </tr>\n",
       "    <tr>\n",
       "      <th>1963</th>\n",
       "      <td>26.035511</td>\n",
       "      <td>NaN</td>\n",
       "      <td>NaN</td>\n",
       "      <td>7.511112e+08</td>\n",
       "      <td>NaN</td>\n",
       "      <td>3.440828</td>\n",
       "      <td>NaN</td>\n",
       "      <td>NaN</td>\n",
       "      <td>NaN</td>\n",
       "      <td>NaN</td>\n",
       "      <td>NaN</td>\n",
       "      <td>16.863910</td>\n",
       "      <td>NaN</td>\n",
       "      <td>NaN</td>\n",
       "      <td>93.491117</td>\n",
       "      <td>9.171601</td>\n",
       "      <td>NaN</td>\n",
       "      <td>NaN</td>\n",
       "      <td>NaN</td>\n",
       "    </tr>\n",
       "    <tr>\n",
       "      <th>1964</th>\n",
       "      <td>26.944448</td>\n",
       "      <td>NaN</td>\n",
       "      <td>NaN</td>\n",
       "      <td>8.000000e+08</td>\n",
       "      <td>NaN</td>\n",
       "      <td>3.730555</td>\n",
       "      <td>NaN</td>\n",
       "      <td>NaN</td>\n",
       "      <td>NaN</td>\n",
       "      <td>NaN</td>\n",
       "      <td>NaN</td>\n",
       "      <td>18.055555</td>\n",
       "      <td>NaN</td>\n",
       "      <td>NaN</td>\n",
       "      <td>95.277767</td>\n",
       "      <td>8.888893</td>\n",
       "      <td>NaN</td>\n",
       "      <td>NaN</td>\n",
       "      <td>NaN</td>\n",
       "    </tr>\n",
       "  </tbody>\n",
       "</table>\n",
       "</div>"
      ],
      "text/plain": [
       "                       Trade  services  Industry           GDP  Forest  \\\n",
       "country_name year                                                        \n",
       "Afghanistan  1960  11.157027       NaN       NaN  5.377778e+08     NaN   \n",
       "             1961  12.550610       NaN       NaN  5.488889e+08     NaN   \n",
       "             1962  14.227644       NaN       NaN  5.466667e+08     NaN   \n",
       "             1963  26.035511       NaN       NaN  7.511112e+08     NaN   \n",
       "             1964  26.944448       NaN       NaN  8.000000e+08     NaN   \n",
       "\n",
       "                   Domestic_credit  Current_balance  natural_resources  \\\n",
       "country_name year                                                        \n",
       "Afghanistan  1960         4.603305              NaN                NaN   \n",
       "             1961         4.635627              NaN                NaN   \n",
       "             1962         4.662602              NaN                NaN   \n",
       "             1963         3.440828              NaN                NaN   \n",
       "             1964         3.730555              NaN                NaN   \n",
       "\n",
       "                   remittances  Minerals  Manufacturing  \\\n",
       "country_name year                                         \n",
       "Afghanistan  1960          NaN       NaN            NaN   \n",
       "             1961          NaN       NaN            NaN   \n",
       "             1962          NaN       NaN            NaN   \n",
       "             1963          NaN       NaN            NaN   \n",
       "             1964          NaN       NaN            NaN   \n",
       "\n",
       "                   Imports_of_goods_and_services  \\\n",
       "country_name year                                  \n",
       "Afghanistan  1960                       7.024793   \n",
       "             1961                       8.097166   \n",
       "             1962                       9.349593   \n",
       "             1963                      16.863910   \n",
       "             1964                      18.055555   \n",
       "\n",
       "                   General_government_final_consumption_expenditure  \\\n",
       "country_name year                                                     \n",
       "Afghanistan  1960                                               NaN   \n",
       "             1961                                               NaN   \n",
       "             1962                                               NaN   \n",
       "             1963                                               NaN   \n",
       "             1964                                               NaN   \n",
       "\n",
       "                   GDP_per_person_employed  consumption_expenditure  \\\n",
       "country_name year                                                     \n",
       "Afghanistan  1960                      NaN                86.776852   \n",
       "             1961                      NaN                87.044526   \n",
       "             1962                      NaN                85.365850   \n",
       "             1963                      NaN                93.491117   \n",
       "             1964                      NaN                95.277767   \n",
       "\n",
       "                   Exports_of_goods_and_services  health  coal  agriculture  \n",
       "country_name year                                                            \n",
       "Afghanistan  1960                       4.132233     NaN   NaN          NaN  \n",
       "             1961                       4.453443     NaN   NaN          NaN  \n",
       "             1962                       4.878051     NaN   NaN          NaN  \n",
       "             1963                       9.171601     NaN   NaN          NaN  \n",
       "             1964                       8.888893     NaN   NaN          NaN  "
      ]
     },
     "execution_count": 23,
     "metadata": {},
     "output_type": "execute_result"
    }
   ],
   "source": [
    "new_table.head()"
   ]
  },
  {
   "cell_type": "code",
   "execution_count": 24,
   "id": "e96b0c54-7efe-4d2b-ba6f-f67fa1aed7ca",
   "metadata": {},
   "outputs": [],
   "source": [
    "# Getting rid of the index\n",
    "new_table = new_table.reset_index()"
   ]
  },
  {
   "cell_type": "code",
   "execution_count": 25,
   "id": "2698dd1f-e737-46f3-9185-91eacb531b9e",
   "metadata": {},
   "outputs": [],
   "source": [
    "asian_countries = us_foreign_aid[us_foreign_aid['Region Name']=='East Asia and Oceania']['Country Name'].unique()\n",
    "south_american_countries = us_foreign_aid[us_foreign_aid['Region Name']=='Western Hemisphere']['Country Name'].unique()\n",
    "countries_filter = list(asian_countries) + list(south_american_countries)"
   ]
  },
  {
   "cell_type": "code",
   "execution_count": 26,
   "id": "f7fc2271-f480-4df0-88d6-847095796792",
   "metadata": {},
   "outputs": [],
   "source": [
    "countries_found = list(new_table[new_table['country_name'].isin(countries_filter)]['country_name'].unique())"
   ]
  },
  {
   "cell_type": "code",
   "execution_count": 27,
   "id": "0281f861-1a5a-4305-b027-da2e63d6cb85",
   "metadata": {},
   "outputs": [
    {
     "data": {
      "text/plain": [
       "['Brunei',\n",
       " 'China (P.R.C.)',\n",
       " 'Cook Islands',\n",
       " 'East Asia and Oceania Region',\n",
       " 'Eastern Asia Region',\n",
       " 'Micronesia, Federated States of',\n",
       " 'China (Hong Kong, S.A.R., P.R.C.)',\n",
       " 'Kiribati, Republic of',\n",
       " 'Korea, Republic of',\n",
       " 'Laos',\n",
       " 'China (Macau, S.A.R., P.R.C.)',\n",
       " 'Burma (Myanmar)',\n",
       " 'Vietnam (former South)',\n",
       " 'Oceania Region',\n",
       " 'Pacific Island Trust Territory',\n",
       " 'Korea, Democratic Republic of',\n",
       " 'China (Tibet)',\n",
       " 'Taiwan',\n",
       " 'Anguilla',\n",
       " 'Netherlands Antilles (former)',\n",
       " 'Bahamas',\n",
       " 'Central America and Caribbean Region',\n",
       " 'Central America Region',\n",
       " 'Caribbean Region',\n",
       " 'French Guiana',\n",
       " 'Latin America Region',\n",
       " 'Latin America and Caribbean Region',\n",
       " 'Montserrat',\n",
       " 'Martinique',\n",
       " 'North America Region',\n",
       " 'North and Central America Region',\n",
       " 'South America Region',\n",
       " 'St. Vincent and Grenadines',\n",
       " 'Venezuela',\n",
       " 'British Virgin Islands',\n",
       " 'Western Hemisphere Region']"
      ]
     },
     "execution_count": 27,
     "metadata": {},
     "output_type": "execute_result"
    }
   ],
   "source": [
    "[c for c in countries_filter if c not in countries_found]"
   ]
  },
  {
   "cell_type": "code",
   "execution_count": 28,
   "id": "22b4821f-8618-4b3a-a2d3-112fd6dee335",
   "metadata": {},
   "outputs": [],
   "source": [
    "country_to_compare = 'malaysia'\n",
    "country_df = new_table[new_table['country_name'].str.lower().str.contains(country_to_compare)]\n",
    "korea_df = new_table[new_table['country_name'].str.lower().str.contains('korea')]"
   ]
  },
  {
   "cell_type": "code",
   "execution_count": 29,
   "id": "c19b9bde-0c85-42ca-bcc8-19b4274593cf",
   "metadata": {},
   "outputs": [],
   "source": [
    "korea_summary = korea_df.describe().loc['count']\n",
    "max_count = korea_summary.max()\n",
    "korea_list = list(korea_summary[korea_summary == max_count].index)\n",
    "korea_df = korea_df[['year']+korea_list]\n",
    "country_summary = country_df.describe().loc['count']\n",
    "max_count = country_summary.max()\n",
    "col_list = list(country_summary[country_summary == max_count].index)\n",
    "country_df = country_df[['year']+col_list]"
   ]
  },
  {
   "cell_type": "code",
   "execution_count": 30,
   "id": "aa872aa5-907a-4bbf-a78a-78e5c4a9b384",
   "metadata": {},
   "outputs": [
    {
     "data": {
      "text/plain": [
       "((61, 12), (61, 11))"
      ]
     },
     "execution_count": 30,
     "metadata": {},
     "output_type": "execute_result"
    }
   ],
   "source": [
    "korea_df.shape, country_df.shape"
   ]
  },
  {
   "cell_type": "code",
   "execution_count": 31,
   "id": "5965e3b3-3982-4b24-a50c-5b30b84dffac",
   "metadata": {},
   "outputs": [
    {
     "data": {
      "text/html": [
       "<style type=\"text/css\">\n",
       "#T_5094a_row0_col0, #T_5094a_row1_col1, #T_5094a_row2_col2, #T_5094a_row3_col3, #T_5094a_row4_col4, #T_5094a_row5_col5, #T_5094a_row6_col6, #T_5094a_row7_col7, #T_5094a_row8_col8, #T_5094a_row9_col9, #T_5094a_row10_col10 {\n",
       "  background-color: #b40426;\n",
       "  color: #f1f1f1;\n",
       "}\n",
       "#T_5094a_row0_col1, #T_5094a_row0_col4, #T_5094a_row1_col5, #T_5094a_row4_col0, #T_5094a_row7_col3 {\n",
       "  background-color: #d24b40;\n",
       "  color: #f1f1f1;\n",
       "}\n",
       "#T_5094a_row0_col2 {\n",
       "  background-color: #e16751;\n",
       "  color: #f1f1f1;\n",
       "}\n",
       "#T_5094a_row0_col3, #T_5094a_row6_col1 {\n",
       "  background-color: #e0654f;\n",
       "  color: #f1f1f1;\n",
       "}\n",
       "#T_5094a_row0_col5, #T_5094a_row1_col9, #T_5094a_row9_col1 {\n",
       "  background-color: #cd423b;\n",
       "  color: #f1f1f1;\n",
       "}\n",
       "#T_5094a_row0_col6, #T_5094a_row6_col0 {\n",
       "  background-color: #b8122a;\n",
       "  color: #f1f1f1;\n",
       "}\n",
       "#T_5094a_row0_col7 {\n",
       "  background-color: #f59d7e;\n",
       "  color: #000000;\n",
       "}\n",
       "#T_5094a_row0_col8 {\n",
       "  background-color: #6180e9;\n",
       "  color: #f1f1f1;\n",
       "}\n",
       "#T_5094a_row0_col9, #T_5094a_row9_col0 {\n",
       "  background-color: #b50927;\n",
       "  color: #f1f1f1;\n",
       "}\n",
       "#T_5094a_row0_col10 {\n",
       "  background-color: #4b64d5;\n",
       "  color: #f1f1f1;\n",
       "}\n",
       "#T_5094a_row1_col0, #T_5094a_row5_col1 {\n",
       "  background-color: #d44e41;\n",
       "  color: #f1f1f1;\n",
       "}\n",
       "#T_5094a_row1_col2, #T_5094a_row3_col0, #T_5094a_row6_col5 {\n",
       "  background-color: #de614d;\n",
       "  color: #f1f1f1;\n",
       "}\n",
       "#T_5094a_row1_col3 {\n",
       "  background-color: #cc403a;\n",
       "  color: #f1f1f1;\n",
       "}\n",
       "#T_5094a_row1_col4 {\n",
       "  background-color: #c53334;\n",
       "  color: #f1f1f1;\n",
       "}\n",
       "#T_5094a_row1_col6, #T_5094a_row2_col0 {\n",
       "  background-color: #e36c55;\n",
       "  color: #f1f1f1;\n",
       "}\n",
       "#T_5094a_row1_col7 {\n",
       "  background-color: #ed8366;\n",
       "  color: #f1f1f1;\n",
       "}\n",
       "#T_5094a_row1_col8, #T_5094a_row3_col10 {\n",
       "  background-color: #5d7ce6;\n",
       "  color: #f1f1f1;\n",
       "}\n",
       "#T_5094a_row1_col10, #T_5094a_row2_col10, #T_5094a_row5_col8 {\n",
       "  background-color: #3d50c3;\n",
       "  color: #f1f1f1;\n",
       "}\n",
       "#T_5094a_row2_col1 {\n",
       "  background-color: #df634e;\n",
       "  color: #f1f1f1;\n",
       "}\n",
       "#T_5094a_row2_col3 {\n",
       "  background-color: #f7a688;\n",
       "  color: #000000;\n",
       "}\n",
       "#T_5094a_row2_col4 {\n",
       "  background-color: #f49a7b;\n",
       "  color: #000000;\n",
       "}\n",
       "#T_5094a_row2_col5, #T_5094a_row5_col2 {\n",
       "  background-color: #bb1b2c;\n",
       "  color: #f1f1f1;\n",
       "}\n",
       "#T_5094a_row2_col6 {\n",
       "  background-color: #f18d6f;\n",
       "  color: #f1f1f1;\n",
       "}\n",
       "#T_5094a_row2_col7 {\n",
       "  background-color: #d7dce3;\n",
       "  color: #000000;\n",
       "}\n",
       "#T_5094a_row2_col8, #T_5094a_row5_col10, #T_5094a_row8_col2, #T_5094a_row8_col5, #T_5094a_row10_col0, #T_5094a_row10_col1, #T_5094a_row10_col3, #T_5094a_row10_col4, #T_5094a_row10_col6, #T_5094a_row10_col7, #T_5094a_row10_col9 {\n",
       "  background-color: #3b4cc0;\n",
       "  color: #f1f1f1;\n",
       "}\n",
       "#T_5094a_row2_col9, #T_5094a_row6_col4 {\n",
       "  background-color: #dc5d4a;\n",
       "  color: #f1f1f1;\n",
       "}\n",
       "#T_5094a_row3_col1 {\n",
       "  background-color: #ca3b37;\n",
       "  color: #f1f1f1;\n",
       "}\n",
       "#T_5094a_row3_col2 {\n",
       "  background-color: #f4987a;\n",
       "  color: #000000;\n",
       "}\n",
       "#T_5094a_row3_col4, #T_5094a_row4_col3 {\n",
       "  background-color: #be242e;\n",
       "  color: #f1f1f1;\n",
       "}\n",
       "#T_5094a_row3_col5 {\n",
       "  background-color: #e97a5f;\n",
       "  color: #f1f1f1;\n",
       "}\n",
       "#T_5094a_row3_col6, #T_5094a_row5_col4, #T_5094a_row6_col3 {\n",
       "  background-color: #e8765c;\n",
       "  color: #f1f1f1;\n",
       "}\n",
       "#T_5094a_row3_col7, #T_5094a_row7_col4 {\n",
       "  background-color: #d75445;\n",
       "  color: #f1f1f1;\n",
       "}\n",
       "#T_5094a_row3_col8 {\n",
       "  background-color: #81a4fb;\n",
       "  color: #f1f1f1;\n",
       "}\n",
       "#T_5094a_row3_col9 {\n",
       "  background-color: #da5a49;\n",
       "  color: #f1f1f1;\n",
       "}\n",
       "#T_5094a_row4_col1 {\n",
       "  background-color: #c43032;\n",
       "  color: #f1f1f1;\n",
       "}\n",
       "#T_5094a_row4_col2 {\n",
       "  background-color: #f29072;\n",
       "  color: #f1f1f1;\n",
       "}\n",
       "#T_5094a_row4_col5, #T_5094a_row7_col1 {\n",
       "  background-color: #e46e56;\n",
       "  color: #f1f1f1;\n",
       "}\n",
       "#T_5094a_row4_col6, #T_5094a_row4_col7, #T_5094a_row9_col3 {\n",
       "  background-color: #dd5f4b;\n",
       "  color: #f1f1f1;\n",
       "}\n",
       "#T_5094a_row4_col8 {\n",
       "  background-color: #7a9df8;\n",
       "  color: #f1f1f1;\n",
       "}\n",
       "#T_5094a_row4_col9, #T_5094a_row5_col0 {\n",
       "  background-color: #d0473d;\n",
       "  color: #f1f1f1;\n",
       "}\n",
       "#T_5094a_row4_col10 {\n",
       "  background-color: #5470de;\n",
       "  color: #f1f1f1;\n",
       "}\n",
       "#T_5094a_row5_col3 {\n",
       "  background-color: #ee8468;\n",
       "  color: #f1f1f1;\n",
       "}\n",
       "#T_5094a_row5_col6 {\n",
       "  background-color: #e26952;\n",
       "  color: #f1f1f1;\n",
       "}\n",
       "#T_5094a_row5_col7 {\n",
       "  background-color: #edd2c3;\n",
       "  color: #000000;\n",
       "}\n",
       "#T_5094a_row5_col9, #T_5094a_row9_col5 {\n",
       "  background-color: #c73635;\n",
       "  color: #f1f1f1;\n",
       "}\n",
       "#T_5094a_row6_col2 {\n",
       "  background-color: #ec8165;\n",
       "  color: #f1f1f1;\n",
       "}\n",
       "#T_5094a_row6_col7 {\n",
       "  background-color: #f6a385;\n",
       "  color: #000000;\n",
       "}\n",
       "#T_5094a_row6_col8 {\n",
       "  background-color: #7699f6;\n",
       "  color: #f1f1f1;\n",
       "}\n",
       "#T_5094a_row6_col9, #T_5094a_row9_col6 {\n",
       "  background-color: #c32e31;\n",
       "  color: #f1f1f1;\n",
       "}\n",
       "#T_5094a_row6_col10, #T_5094a_row8_col4 {\n",
       "  background-color: #5b7ae5;\n",
       "  color: #f1f1f1;\n",
       "}\n",
       "#T_5094a_row7_col0 {\n",
       "  background-color: #f08a6c;\n",
       "  color: #f1f1f1;\n",
       "}\n",
       "#T_5094a_row7_col2 {\n",
       "  background-color: #f2cab5;\n",
       "  color: #000000;\n",
       "}\n",
       "#T_5094a_row7_col5 {\n",
       "  background-color: #f7b79b;\n",
       "  color: #000000;\n",
       "}\n",
       "#T_5094a_row7_col6 {\n",
       "  background-color: #f39475;\n",
       "  color: #000000;\n",
       "}\n",
       "#T_5094a_row7_col8 {\n",
       "  background-color: #b6cefa;\n",
       "  color: #000000;\n",
       "}\n",
       "#T_5094a_row7_col9 {\n",
       "  background-color: #ef886b;\n",
       "  color: #f1f1f1;\n",
       "}\n",
       "#T_5094a_row7_col10 {\n",
       "  background-color: #86a9fc;\n",
       "  color: #f1f1f1;\n",
       "}\n",
       "#T_5094a_row8_col0 {\n",
       "  background-color: #4a63d3;\n",
       "  color: #f1f1f1;\n",
       "}\n",
       "#T_5094a_row8_col1 {\n",
       "  background-color: #5572df;\n",
       "  color: #f1f1f1;\n",
       "}\n",
       "#T_5094a_row8_col3 {\n",
       "  background-color: #5a78e4;\n",
       "  color: #f1f1f1;\n",
       "}\n",
       "#T_5094a_row8_col6 {\n",
       "  background-color: #506bda;\n",
       "  color: #f1f1f1;\n",
       "}\n",
       "#T_5094a_row8_col7 {\n",
       "  background-color: #6e90f2;\n",
       "  color: #f1f1f1;\n",
       "}\n",
       "#T_5094a_row8_col9 {\n",
       "  background-color: #485fd1;\n",
       "  color: #f1f1f1;\n",
       "}\n",
       "#T_5094a_row8_col10, #T_5094a_row10_col8 {\n",
       "  background-color: #c12b30;\n",
       "  color: #f1f1f1;\n",
       "}\n",
       "#T_5094a_row9_col2 {\n",
       "  background-color: #d95847;\n",
       "  color: #f1f1f1;\n",
       "}\n",
       "#T_5094a_row9_col4 {\n",
       "  background-color: #d1493f;\n",
       "  color: #f1f1f1;\n",
       "}\n",
       "#T_5094a_row9_col7 {\n",
       "  background-color: #f59f80;\n",
       "  color: #000000;\n",
       "}\n",
       "#T_5094a_row9_col8 {\n",
       "  background-color: #5673e0;\n",
       "  color: #f1f1f1;\n",
       "}\n",
       "#T_5094a_row9_col10 {\n",
       "  background-color: #445acc;\n",
       "  color: #f1f1f1;\n",
       "}\n",
       "#T_5094a_row10_col2 {\n",
       "  background-color: #4257c9;\n",
       "  color: #f1f1f1;\n",
       "}\n",
       "#T_5094a_row10_col5 {\n",
       "  background-color: #3c4ec2;\n",
       "  color: #f1f1f1;\n",
       "}\n",
       "</style>\n",
       "<table id=\"T_5094a_\">\n",
       "  <thead>\n",
       "    <tr>\n",
       "      <th class=\"blank level0\" >&nbsp;</th>\n",
       "      <th class=\"col_heading level0 col0\" >Trade</th>\n",
       "      <th class=\"col_heading level0 col1\" >services</th>\n",
       "      <th class=\"col_heading level0 col2\" >Industry</th>\n",
       "      <th class=\"col_heading level0 col3\" >GDP</th>\n",
       "      <th class=\"col_heading level0 col4\" >Domestic_credit</th>\n",
       "      <th class=\"col_heading level0 col5\" >Manufacturing</th>\n",
       "      <th class=\"col_heading level0 col6\" >Imports_of_goods_and_services</th>\n",
       "      <th class=\"col_heading level0 col7\" >General_government_final_consumption_expenditure</th>\n",
       "      <th class=\"col_heading level0 col8\" >consumption_expenditure</th>\n",
       "      <th class=\"col_heading level0 col9\" >Exports_of_goods_and_services</th>\n",
       "      <th class=\"col_heading level0 col10\" >agriculture</th>\n",
       "    </tr>\n",
       "  </thead>\n",
       "  <tbody>\n",
       "    <tr>\n",
       "      <th id=\"T_5094a_level0_row0\" class=\"row_heading level0 row0\" >Trade</th>\n",
       "      <td id=\"T_5094a_row0_col0\" class=\"data row0 col0\" >1.000000</td>\n",
       "      <td id=\"T_5094a_row0_col1\" class=\"data row0 col1\" >0.827948</td>\n",
       "      <td id=\"T_5094a_row0_col2\" class=\"data row0 col2\" >0.725519</td>\n",
       "      <td id=\"T_5094a_row0_col3\" class=\"data row0 col3\" >0.765483</td>\n",
       "      <td id=\"T_5094a_row0_col4\" class=\"data row0 col4\" >0.839801</td>\n",
       "      <td id=\"T_5094a_row0_col5\" class=\"data row0 col5\" >0.855372</td>\n",
       "      <td id=\"T_5094a_row0_col6\" class=\"data row0 col6\" >0.973699</td>\n",
       "      <td id=\"T_5094a_row0_col7\" class=\"data row0 col7\" >0.609438</td>\n",
       "      <td id=\"T_5094a_row0_col8\" class=\"data row0 col8\" >-0.737929</td>\n",
       "      <td id=\"T_5094a_row0_col9\" class=\"data row0 col9\" >0.987898</td>\n",
       "      <td id=\"T_5094a_row0_col10\" class=\"data row0 col10\" >-0.838257</td>\n",
       "    </tr>\n",
       "    <tr>\n",
       "      <th id=\"T_5094a_level0_row1\" class=\"row_heading level0 row1\" >services</th>\n",
       "      <td id=\"T_5094a_row1_col0\" class=\"data row1 col0\" >0.827948</td>\n",
       "      <td id=\"T_5094a_row1_col1\" class=\"data row1 col1\" >1.000000</td>\n",
       "      <td id=\"T_5094a_row1_col2\" class=\"data row1 col2\" >0.745129</td>\n",
       "      <td id=\"T_5094a_row1_col3\" class=\"data row1 col3\" >0.880572</td>\n",
       "      <td id=\"T_5094a_row1_col4\" class=\"data row1 col4\" >0.915063</td>\n",
       "      <td id=\"T_5094a_row1_col5\" class=\"data row1 col5\" >0.824218</td>\n",
       "      <td id=\"T_5094a_row1_col6\" class=\"data row1 col6\" >0.741542</td>\n",
       "      <td id=\"T_5094a_row1_col7\" class=\"data row1 col7\" >0.705103</td>\n",
       "      <td id=\"T_5094a_row1_col8\" class=\"data row1 col8\" >-0.762796</td>\n",
       "      <td id=\"T_5094a_row1_col9\" class=\"data row1 col9\" >0.861926</td>\n",
       "      <td id=\"T_5094a_row1_col10\" class=\"data row1 col10\" >-0.931892</td>\n",
       "    </tr>\n",
       "    <tr>\n",
       "      <th id=\"T_5094a_level0_row2\" class=\"row_heading level0 row2\" >Industry</th>\n",
       "      <td id=\"T_5094a_row2_col0\" class=\"data row2 col0\" >0.725519</td>\n",
       "      <td id=\"T_5094a_row2_col1\" class=\"data row2 col1\" >0.745129</td>\n",
       "      <td id=\"T_5094a_row2_col2\" class=\"data row2 col2\" >1.000000</td>\n",
       "      <td id=\"T_5094a_row2_col3\" class=\"data row2 col3\" >0.510649</td>\n",
       "      <td id=\"T_5094a_row2_col4\" class=\"data row2 col4\" >0.549294</td>\n",
       "      <td id=\"T_5094a_row2_col5\" class=\"data row2 col5\" >0.959489</td>\n",
       "      <td id=\"T_5094a_row2_col6\" class=\"data row2 col6\" >0.615513</td>\n",
       "      <td id=\"T_5094a_row2_col7\" class=\"data row2 col7\" >0.217257</td>\n",
       "      <td id=\"T_5094a_row2_col8\" class=\"data row2 col8\" >-0.982016</td>\n",
       "      <td id=\"T_5094a_row2_col9\" class=\"data row2 col9\" >0.778637</td>\n",
       "      <td id=\"T_5094a_row2_col10\" class=\"data row2 col10\" >-0.930192</td>\n",
       "    </tr>\n",
       "    <tr>\n",
       "      <th id=\"T_5094a_level0_row3\" class=\"row_heading level0 row3\" >GDP</th>\n",
       "      <td id=\"T_5094a_row3_col0\" class=\"data row3 col0\" >0.765483</td>\n",
       "      <td id=\"T_5094a_row3_col1\" class=\"data row3 col1\" >0.880572</td>\n",
       "      <td id=\"T_5094a_row3_col2\" class=\"data row3 col2\" >0.510649</td>\n",
       "      <td id=\"T_5094a_row3_col3\" class=\"data row3 col3\" >1.000000</td>\n",
       "      <td id=\"T_5094a_row3_col4\" class=\"data row3 col4\" >0.948777</td>\n",
       "      <td id=\"T_5094a_row3_col5\" class=\"data row3 col5\" >0.653950</td>\n",
       "      <td id=\"T_5094a_row3_col6\" class=\"data row3 col6\" >0.704315</td>\n",
       "      <td id=\"T_5094a_row3_col7\" class=\"data row3 col7\" >0.845117</td>\n",
       "      <td id=\"T_5094a_row3_col8\" class=\"data row3 col8\" >-0.553747</td>\n",
       "      <td id=\"T_5094a_row3_col9\" class=\"data row3 col9\" >0.784154</td>\n",
       "      <td id=\"T_5094a_row3_col10\" class=\"data row3 col10\" >-0.729441</td>\n",
       "    </tr>\n",
       "    <tr>\n",
       "      <th id=\"T_5094a_level0_row4\" class=\"row_heading level0 row4\" >Domestic_credit</th>\n",
       "      <td id=\"T_5094a_row4_col0\" class=\"data row4 col0\" >0.839801</td>\n",
       "      <td id=\"T_5094a_row4_col1\" class=\"data row4 col1\" >0.915063</td>\n",
       "      <td id=\"T_5094a_row4_col2\" class=\"data row4 col2\" >0.549294</td>\n",
       "      <td id=\"T_5094a_row4_col3\" class=\"data row4 col3\" >0.948777</td>\n",
       "      <td id=\"T_5094a_row4_col4\" class=\"data row4 col4\" >1.000000</td>\n",
       "      <td id=\"T_5094a_row4_col5\" class=\"data row4 col5\" >0.700010</td>\n",
       "      <td id=\"T_5094a_row4_col6\" class=\"data row4 col6\" >0.789051</td>\n",
       "      <td id=\"T_5094a_row4_col7\" class=\"data row4 col7\" >0.817278</td>\n",
       "      <td id=\"T_5094a_row4_col8\" class=\"data row4 col8\" >-0.592985</td>\n",
       "      <td id=\"T_5094a_row4_col9\" class=\"data row4 col9\" >0.849151</td>\n",
       "      <td id=\"T_5094a_row4_col10\" class=\"data row4 col10\" >-0.783202</td>\n",
       "    </tr>\n",
       "    <tr>\n",
       "      <th id=\"T_5094a_level0_row5\" class=\"row_heading level0 row5\" >Manufacturing</th>\n",
       "      <td id=\"T_5094a_row5_col0\" class=\"data row5 col0\" >0.855372</td>\n",
       "      <td id=\"T_5094a_row5_col1\" class=\"data row5 col1\" >0.824218</td>\n",
       "      <td id=\"T_5094a_row5_col2\" class=\"data row5 col2\" >0.959489</td>\n",
       "      <td id=\"T_5094a_row5_col3\" class=\"data row5 col3\" >0.653950</td>\n",
       "      <td id=\"T_5094a_row5_col4\" class=\"data row5 col4\" >0.700010</td>\n",
       "      <td id=\"T_5094a_row5_col5\" class=\"data row5 col5\" >1.000000</td>\n",
       "      <td id=\"T_5094a_row5_col6\" class=\"data row5 col6\" >0.752003</td>\n",
       "      <td id=\"T_5094a_row5_col7\" class=\"data row5 col7\" >0.351321</td>\n",
       "      <td id=\"T_5094a_row5_col8\" class=\"data row5 col8\" >-0.959994</td>\n",
       "      <td id=\"T_5094a_row5_col9\" class=\"data row5 col9\" >0.900075</td>\n",
       "      <td id=\"T_5094a_row5_col10\" class=\"data row5 col10\" >-0.947785</td>\n",
       "    </tr>\n",
       "    <tr>\n",
       "      <th id=\"T_5094a_level0_row6\" class=\"row_heading level0 row6\" >Imports_of_goods_and_services</th>\n",
       "      <td id=\"T_5094a_row6_col0\" class=\"data row6 col0\" >0.973699</td>\n",
       "      <td id=\"T_5094a_row6_col1\" class=\"data row6 col1\" >0.741542</td>\n",
       "      <td id=\"T_5094a_row6_col2\" class=\"data row6 col2\" >0.615513</td>\n",
       "      <td id=\"T_5094a_row6_col3\" class=\"data row6 col3\" >0.704315</td>\n",
       "      <td id=\"T_5094a_row6_col4\" class=\"data row6 col4\" >0.789051</td>\n",
       "      <td id=\"T_5094a_row6_col5\" class=\"data row6 col5\" >0.752003</td>\n",
       "      <td id=\"T_5094a_row6_col6\" class=\"data row6 col6\" >1.000000</td>\n",
       "      <td id=\"T_5094a_row6_col7\" class=\"data row6 col7\" >0.588246</td>\n",
       "      <td id=\"T_5094a_row6_col8\" class=\"data row6 col8\" >-0.617609</td>\n",
       "      <td id=\"T_5094a_row6_col9\" class=\"data row6 col9\" >0.926576</td>\n",
       "      <td id=\"T_5094a_row6_col10\" class=\"data row6 col10\" >-0.740510</td>\n",
       "    </tr>\n",
       "    <tr>\n",
       "      <th id=\"T_5094a_level0_row7\" class=\"row_heading level0 row7\" >General_government_final_consumption_expenditure</th>\n",
       "      <td id=\"T_5094a_row7_col0\" class=\"data row7 col0\" >0.609438</td>\n",
       "      <td id=\"T_5094a_row7_col1\" class=\"data row7 col1\" >0.705103</td>\n",
       "      <td id=\"T_5094a_row7_col2\" class=\"data row7 col2\" >0.217257</td>\n",
       "      <td id=\"T_5094a_row7_col3\" class=\"data row7 col3\" >0.845117</td>\n",
       "      <td id=\"T_5094a_row7_col4\" class=\"data row7 col4\" >0.817278</td>\n",
       "      <td id=\"T_5094a_row7_col5\" class=\"data row7 col5\" >0.351321</td>\n",
       "      <td id=\"T_5094a_row7_col6\" class=\"data row7 col6\" >0.588246</td>\n",
       "      <td id=\"T_5094a_row7_col7\" class=\"data row7 col7\" >1.000000</td>\n",
       "      <td id=\"T_5094a_row7_col8\" class=\"data row7 col8\" >-0.253402</td>\n",
       "      <td id=\"T_5094a_row7_col9\" class=\"data row7 col9\" >0.605578</td>\n",
       "      <td id=\"T_5094a_row7_col10\" class=\"data row7 col10\" >-0.497877</td>\n",
       "    </tr>\n",
       "    <tr>\n",
       "      <th id=\"T_5094a_level0_row8\" class=\"row_heading level0 row8\" >consumption_expenditure</th>\n",
       "      <td id=\"T_5094a_row8_col0\" class=\"data row8 col0\" >-0.737929</td>\n",
       "      <td id=\"T_5094a_row8_col1\" class=\"data row8 col1\" >-0.762796</td>\n",
       "      <td id=\"T_5094a_row8_col2\" class=\"data row8 col2\" >-0.982016</td>\n",
       "      <td id=\"T_5094a_row8_col3\" class=\"data row8 col3\" >-0.553747</td>\n",
       "      <td id=\"T_5094a_row8_col4\" class=\"data row8 col4\" >-0.592985</td>\n",
       "      <td id=\"T_5094a_row8_col5\" class=\"data row8 col5\" >-0.959994</td>\n",
       "      <td id=\"T_5094a_row8_col6\" class=\"data row8 col6\" >-0.617609</td>\n",
       "      <td id=\"T_5094a_row8_col7\" class=\"data row8 col7\" >-0.253402</td>\n",
       "      <td id=\"T_5094a_row8_col8\" class=\"data row8 col8\" >1.000000</td>\n",
       "      <td id=\"T_5094a_row8_col9\" class=\"data row8 col9\" >-0.797695</td>\n",
       "      <td id=\"T_5094a_row8_col10\" class=\"data row8 col10\" >0.929718</td>\n",
       "    </tr>\n",
       "    <tr>\n",
       "      <th id=\"T_5094a_level0_row9\" class=\"row_heading level0 row9\" >Exports_of_goods_and_services</th>\n",
       "      <td id=\"T_5094a_row9_col0\" class=\"data row9 col0\" >0.987898</td>\n",
       "      <td id=\"T_5094a_row9_col1\" class=\"data row9 col1\" >0.861926</td>\n",
       "      <td id=\"T_5094a_row9_col2\" class=\"data row9 col2\" >0.778637</td>\n",
       "      <td id=\"T_5094a_row9_col3\" class=\"data row9 col3\" >0.784154</td>\n",
       "      <td id=\"T_5094a_row9_col4\" class=\"data row9 col4\" >0.849151</td>\n",
       "      <td id=\"T_5094a_row9_col5\" class=\"data row9 col5\" >0.900075</td>\n",
       "      <td id=\"T_5094a_row9_col6\" class=\"data row9 col6\" >0.926576</td>\n",
       "      <td id=\"T_5094a_row9_col7\" class=\"data row9 col7\" >0.605578</td>\n",
       "      <td id=\"T_5094a_row9_col8\" class=\"data row9 col8\" >-0.797695</td>\n",
       "      <td id=\"T_5094a_row9_col9\" class=\"data row9 col9\" >1.000000</td>\n",
       "      <td id=\"T_5094a_row9_col10\" class=\"data row9 col10\" >-0.879645</td>\n",
       "    </tr>\n",
       "    <tr>\n",
       "      <th id=\"T_5094a_level0_row10\" class=\"row_heading level0 row10\" >agriculture</th>\n",
       "      <td id=\"T_5094a_row10_col0\" class=\"data row10 col0\" >-0.838257</td>\n",
       "      <td id=\"T_5094a_row10_col1\" class=\"data row10 col1\" >-0.931892</td>\n",
       "      <td id=\"T_5094a_row10_col2\" class=\"data row10 col2\" >-0.930192</td>\n",
       "      <td id=\"T_5094a_row10_col3\" class=\"data row10 col3\" >-0.729441</td>\n",
       "      <td id=\"T_5094a_row10_col4\" class=\"data row10 col4\" >-0.783202</td>\n",
       "      <td id=\"T_5094a_row10_col5\" class=\"data row10 col5\" >-0.947785</td>\n",
       "      <td id=\"T_5094a_row10_col6\" class=\"data row10 col6\" >-0.740510</td>\n",
       "      <td id=\"T_5094a_row10_col7\" class=\"data row10 col7\" >-0.497877</td>\n",
       "      <td id=\"T_5094a_row10_col8\" class=\"data row10 col8\" >0.929718</td>\n",
       "      <td id=\"T_5094a_row10_col9\" class=\"data row10 col9\" >-0.879645</td>\n",
       "      <td id=\"T_5094a_row10_col10\" class=\"data row10 col10\" >1.000000</td>\n",
       "    </tr>\n",
       "  </tbody>\n",
       "</table>\n"
      ],
      "text/plain": [
       "<pandas.io.formats.style.Styler at 0x2b56dc6ad90>"
      ]
     },
     "execution_count": 31,
     "metadata": {},
     "output_type": "execute_result"
    }
   ],
   "source": [
    "corr = korea_df.corr()\n",
    "corr.style.background_gradient(cmap='coolwarm')\n",
    "# 'RdBu_r', 'BrBG_r', & PuOr_r are other good diverging colormaps"
   ]
  },
  {
   "cell_type": "markdown",
   "id": "69974a1b-ec31-45cc-9d71-873ac836d56a",
   "metadata": {},
   "source": [
    "### Linear Regression"
   ]
  },
  {
   "cell_type": "code",
   "execution_count": 32,
   "id": "d3b49f72-4ac9-428e-a45a-d0b56caa72f8",
   "metadata": {},
   "outputs": [],
   "source": [
    "from sklearn import model_selection\n",
    "from sklearn.linear_model import LinearRegression\n",
    "from sklearn.model_selection import train_test_split"
   ]
  },
  {
   "cell_type": "code",
   "execution_count": 33,
   "id": "c4c29b31-028d-4c49-a5c0-752f49f6eee5",
   "metadata": {},
   "outputs": [
    {
     "data": {
      "text/plain": [
       "(0.9436928726912013, 0.9130671869873989)"
      ]
     },
     "execution_count": 33,
     "metadata": {},
     "output_type": "execute_result"
    }
   ],
   "source": [
    "# Create and Train Model\n",
    "lr = LinearRegression()\n",
    "y_col = 'GDP'\n",
    "X_col = [col for col in col_list if col != 'GDP']\n",
    "X = korea_df[X_col]\n",
    "y = korea_df[y_col]\n",
    "X_train, X_test, y_train, y_test = train_test_split(X,y)\n",
    "\n",
    "# Score the model\n",
    "lr = lr.fit(X_train, y_train)\n",
    "lr.score(X_train, y_train), lr.score(X_test, y_test)"
   ]
  },
  {
   "cell_type": "code",
   "execution_count": 34,
   "id": "604bbedb-f307-4dfc-9671-3246c98bec0b",
   "metadata": {},
   "outputs": [
    {
     "data": {
      "image/png": "[encoded data removed]",
      "text/plain": [
       "<Figure size 648x504 with 1 Axes>"
      ]
     },
     "metadata": {
      "needs_background": "light"
     },
     "output_type": "display_data"
    }
   ],
   "source": [
    "import matplotlib.pyplot as plt\n",
    "\n",
    "coefs = pd.DataFrame(\n",
    "   lr.coef_,\n",
    "   columns=['Coefficients'], index=X_train.columns\n",
    ")\n",
    "\n",
    "coefs.plot(kind='barh', figsize=(9, 7))\n",
    "plt.title('Model')\n",
    "plt.axvline(x=0, color='.5')\n",
    "plt.subplots_adjust(left=.3)"
   ]
  },
  {
   "cell_type": "code",
   "execution_count": 35,
   "id": "3c777b3a-9d5d-4d0d-8712-75d17ac9be95",
   "metadata": {},
   "outputs": [
    {
     "data": {
      "text/plain": [
       "(0.8674238826433356, 0.8103426276781214)"
      ]
     },
     "execution_count": 35,
     "metadata": {},
     "output_type": "execute_result"
    }
   ],
   "source": [
    "# Create and Train Model\n",
    "lr = LinearRegression()\n",
    "y_col = 'GDP'\n",
    "X_col = [col for col in col_list if col != 'GDP']\n",
    "X = country_df[X_col]\n",
    "y = country_df[y_col]\n",
    "X_train, X_test, y_train, y_test = train_test_split(X,y)\n",
    "\n",
    "# Score the model\n",
    "lr = lr.fit(X_train, y_train)\n",
    "lr.score(X_train, y_train), lr.score(X_test, y_test)"
   ]
  },
  {
   "cell_type": "code",
   "execution_count": 36,
   "id": "710330ef-30d9-494c-8ca0-0c2bbe610c78",
   "metadata": {},
   "outputs": [
    {
     "data": {
      "image/png": "[encoded data removed]",
      "text/plain": [
       "<Figure size 648x504 with 1 Axes>"
      ]
     },
     "metadata": {
      "needs_background": "light"
     },
     "output_type": "display_data"
    }
   ],
   "source": [
    "import matplotlib.pyplot as plt\n",
    "\n",
    "coefs = pd.DataFrame(\n",
    "   lr.coef_,\n",
    "   columns=['Coefficients'], index=X_train.columns\n",
    ")\n",
    "\n",
    "coefs.plot(kind='barh', figsize=(9, 7))\n",
    "plt.title('Ridge model')\n",
    "plt.axvline(x=0, color='.5')\n",
    "plt.subplots_adjust(left=.3)"
   ]
  },
  {
   "cell_type": "markdown",
   "id": "ba3669c0-7338-4420-b982-e9fe1695d82a",
   "metadata": {},
   "source": [
    "### Removing highly correlated columns"
   ]
  },
  {
   "cell_type": "code",
   "execution_count": 37,
   "id": "0f967177-7ebf-45d0-bed9-2555507b2e2a",
   "metadata": {},
   "outputs": [
    {
     "data": {
      "text/plain": [
       "(0.9428927168449721, 0.8257405897209057)"
      ]
     },
     "execution_count": 37,
     "metadata": {},
     "output_type": "execute_result"
    }
   ],
   "source": [
    "# Create and Train Model\n",
    "lr = LinearRegression()\n",
    "y_col = 'GDP'\n",
    "X_col = [col for col in col_list if col not in ['GDP','Imports_of_goods_and_services','Exports_of_goods_and_services']]\n",
    "X = korea_df[X_col]\n",
    "y = korea_df[y_col]\n",
    "X_train, X_test, y_train, y_test = train_test_split(X,y)\n",
    "\n",
    "# Score the model\n",
    "lr = lr.fit(X_train, y_train)\n",
    "lr.score(X_train, y_train), lr.score(X_test, y_test)"
   ]
  },
  {
   "cell_type": "code",
   "execution_count": 38,
   "id": "de65242b-6fb5-48a5-945c-4081b341293b",
   "metadata": {},
   "outputs": [
    {
     "data": {
      "image/png": "[encoded data removed]",
      "text/plain": [
       "<Figure size 648x504 with 1 Axes>"
      ]
     },
     "metadata": {
      "needs_background": "light"
     },
     "output_type": "display_data"
    }
   ],
   "source": [
    "import matplotlib.pyplot as plt\n",
    "\n",
    "coefs = pd.DataFrame(\n",
    "   lr.coef_,\n",
    "   columns=['Coefficients'], index=X_train.columns\n",
    ")\n",
    "\n",
    "coefs.plot(kind='barh', figsize=(9, 7))\n",
    "plt.title('Ridge model')\n",
    "plt.axvline(x=0, color='.5')\n",
    "plt.subplots_adjust(left=.3)"
   ]
  },
  {
   "cell_type": "markdown",
   "id": "0d31caf4-de1e-46e6-91b8-616ec9464552",
   "metadata": {},
   "source": [
    "### Perform Time Series Analysis"
   ]
  },
  {
   "cell_type": "code",
   "execution_count": 39,
   "id": "9b9ffb7e-5849-4580-9ee1-e152a54e2a68",
   "metadata": {},
   "outputs": [],
   "source": [
    "import statsmodels.api as sm\n",
    "from statsmodels.graphics.tsaplots import plot_acf, plot_pacf\n",
    "from statsmodels.tsa.stattools import adfuller\n",
    "from statsmodels.tsa.arima_model import ARMA\n",
    "from statsmodels.tsa.statespace.sarimax import SARIMAX"
   ]
  },
  {
   "cell_type": "code",
   "execution_count": null,
   "id": "12d76203-fc22-4666-b7d3-2072bd027fbd",
   "metadata": {},
   "outputs": [],
   "source": []
  },
  {
   "cell_type": "code",
   "execution_count": 40,
   "id": "e3ac1884-1e29-4fbd-ae8a-82029bbd81f4",
   "metadata": {},
   "outputs": [],
   "source": [
    "X_col = [col for col in col_list if col not in ['GDP','Imports_of_goods_and_services','Exports_of_goods_and_services']]\n",
    "korea_ts_df = korea_df[['year','GDP']+X_col]\n",
    "korea_ts_df = korea_ts_df.set_index('year')\n",
    "# Getting Disbursements for Korea & Join\n",
    "korea_disbursements_df = us_foreign_aid[(us_foreign_aid['Country Name'].str.lower().str.contains('korea, rep')) & (us_foreign_aid['Transaction Type Name']=='Disbursements')][['Fiscal Year','constant_amount']]\n",
    "korea_disbursements_df.columns = ['year','constant_amount']\n",
    "korea_disbursements_df = korea_disbursements_df.set_index('year')\n",
    "korea_ts_df = pd.concat([korea_ts_df, korea_disbursements_df], axis=1)\n",
    "korea_ts_df.index = pd.to_datetime(korea_ts_df.index)\n",
    "korea_ts_df = korea_ts_df.dropna()\n",
    "\n",
    "country_ts_df = country_df[['year','GDP']+X_col]\n",
    "country_ts_df = country_ts_df.set_index('year')\n",
    "country_disbursements_df = us_foreign_aid[(us_foreign_aid['Country Name'].str.lower().str.contains(country_to_compare))  & (us_foreign_aid['Transaction Type Name']=='Disbursements')][['Fiscal Year','constant_amount']]\n",
    "country_disbursements_df.columns = ['year','constant_amount']\n",
    "country_disbursements_df = country_disbursements_df.set_index('year')\n",
    "country_ts_df = pd.concat([country_ts_df, country_disbursements_df], axis=1)\n",
    "country_ts_df.index = pd.to_datetime(country_ts_df.index)\n",
    "country_ts_df = country_ts_df.dropna()"
   ]
  },
  {
   "cell_type": "code",
   "execution_count": 41,
   "id": "e501532d-dc02-4a15-a192-742e4f5e1f76",
   "metadata": {},
   "outputs": [
    {
     "data": {
      "text/html": [
       "<div>\n",
       "<style scoped>\n",
       "    .dataframe tbody tr th:only-of-type {\n",
       "        vertical-align: middle;\n",
       "    }\n",
       "\n",
       "    .dataframe tbody tr th {\n",
       "        vertical-align: top;\n",
       "    }\n",
       "\n",
       "    .dataframe thead th {\n",
       "        text-align: right;\n",
       "    }\n",
       "</style>\n",
       "<table border=\"1\" class=\"dataframe\">\n",
       "  <thead>\n",
       "    <tr style=\"text-align: right;\">\n",
       "      <th></th>\n",
       "      <th>GDP</th>\n",
       "      <th>Trade</th>\n",
       "      <th>Industry</th>\n",
       "      <th>Domestic_credit</th>\n",
       "      <th>Manufacturing</th>\n",
       "      <th>General_government_final_consumption_expenditure</th>\n",
       "      <th>consumption_expenditure</th>\n",
       "      <th>agriculture</th>\n",
       "      <th>constant_amount</th>\n",
       "    </tr>\n",
       "    <tr>\n",
       "      <th>year</th>\n",
       "      <th></th>\n",
       "      <th></th>\n",
       "      <th></th>\n",
       "      <th></th>\n",
       "      <th></th>\n",
       "      <th></th>\n",
       "      <th></th>\n",
       "      <th></th>\n",
       "      <th></th>\n",
       "    </tr>\n",
       "  </thead>\n",
       "  <tbody>\n",
       "    <tr>\n",
       "      <th>2001-01-01</th>\n",
       "      <td>9.278395e+10</td>\n",
       "      <td>203.364636</td>\n",
       "      <td>46.202695</td>\n",
       "      <td>127.232206</td>\n",
       "      <td>29.336404</td>\n",
       "      <td>12.039288</td>\n",
       "      <td>58.161717</td>\n",
       "      <td>8.010971</td>\n",
       "      <td>2515232.0</td>\n",
       "    </tr>\n",
       "    <tr>\n",
       "      <th>2002-01-01</th>\n",
       "      <td>1.008455e+11</td>\n",
       "      <td>199.356233</td>\n",
       "      <td>45.115380</td>\n",
       "      <td>121.351917</td>\n",
       "      <td>29.246398</td>\n",
       "      <td>12.957807</td>\n",
       "      <td>57.968023</td>\n",
       "      <td>8.985081</td>\n",
       "      <td>2952778.0</td>\n",
       "    </tr>\n",
       "    <tr>\n",
       "      <th>2003-01-01</th>\n",
       "      <td>1.102024e+11</td>\n",
       "      <td>194.195129</td>\n",
       "      <td>46.578663</td>\n",
       "      <td>118.591510</td>\n",
       "      <td>29.928672</td>\n",
       "      <td>12.968009</td>\n",
       "      <td>57.544852</td>\n",
       "      <td>9.306085</td>\n",
       "      <td>2960470.0</td>\n",
       "    </tr>\n",
       "    <tr>\n",
       "      <th>2004-01-01</th>\n",
       "      <td>1.247495e+11</td>\n",
       "      <td>210.374266</td>\n",
       "      <td>48.530318</td>\n",
       "      <td>111.628783</td>\n",
       "      <td>30.378147</td>\n",
       "      <td>12.579950</td>\n",
       "      <td>56.577815</td>\n",
       "      <td>9.271002</td>\n",
       "      <td>2424547.0</td>\n",
       "    </tr>\n",
       "    <tr>\n",
       "      <th>2005-01-01</th>\n",
       "      <td>1.435341e+11</td>\n",
       "      <td>203.854645</td>\n",
       "      <td>46.368322</td>\n",
       "      <td>106.292939</td>\n",
       "      <td>27.549680</td>\n",
       "      <td>11.473606</td>\n",
       "      <td>55.660089</td>\n",
       "      <td>8.262292</td>\n",
       "      <td>14697193.0</td>\n",
       "    </tr>\n",
       "  </tbody>\n",
       "</table>\n",
       "</div>"
      ],
      "text/plain": [
       "                     GDP       Trade   Industry  Domestic_credit  \\\n",
       "year                                                               \n",
       "2001-01-01  9.278395e+10  203.364636  46.202695       127.232206   \n",
       "2002-01-01  1.008455e+11  199.356233  45.115380       121.351917   \n",
       "2003-01-01  1.102024e+11  194.195129  46.578663       118.591510   \n",
       "2004-01-01  1.247495e+11  210.374266  48.530318       111.628783   \n",
       "2005-01-01  1.435341e+11  203.854645  46.368322       106.292939   \n",
       "\n",
       "            Manufacturing  General_government_final_consumption_expenditure  \\\n",
       "year                                                                          \n",
       "2001-01-01      29.336404                                         12.039288   \n",
       "2002-01-01      29.246398                                         12.957807   \n",
       "2003-01-01      29.928672                                         12.968009   \n",
       "2004-01-01      30.378147                                         12.579950   \n",
       "2005-01-01      27.549680                                         11.473606   \n",
       "\n",
       "            consumption_expenditure  agriculture  constant_amount  \n",
       "year                                                               \n",
       "2001-01-01                58.161717     8.010971        2515232.0  \n",
       "2002-01-01                57.968023     8.985081        2952778.0  \n",
       "2003-01-01                57.544852     9.306085        2960470.0  \n",
       "2004-01-01                56.577815     9.271002        2424547.0  \n",
       "2005-01-01                55.660089     8.262292       14697193.0  "
      ]
     },
     "execution_count": 41,
     "metadata": {},
     "output_type": "execute_result"
    }
   ],
   "source": [
    "country_ts_df.head()"
   ]
  },
  {
   "cell_type": "code",
   "execution_count": 42,
   "id": "c7634028-fc51-410d-b621-1e4f299f5273",
   "metadata": {},
   "outputs": [
    {
     "data": {
      "image/png": "[encoded data removed]",
      "text/plain": [
       "<Figure size 432x288 with 1 Axes>"
      ]
     },
     "metadata": {
      "needs_background": "light"
     },
     "output_type": "display_data"
    }
   ],
   "source": [
    "#korea_ts_df['GDP'].plot()\n",
    "korea_ts_df['GDP'].diff().plot()\n",
    "plt.show()"
   ]
  },
  {
   "cell_type": "code",
   "execution_count": 43,
   "id": "342088e7-c96d-4d60-987c-90304336e8fe",
   "metadata": {},
   "outputs": [
    {
     "data": {
      "image/png": "[encoded data removed]",
      "text/plain": [
       "<Figure size 432x288 with 1 Axes>"
      ]
     },
     "metadata": {
      "needs_background": "light"
     },
     "output_type": "display_data"
    }
   ],
   "source": [
    "plot_acf(korea_ts_df['GDP'], lags= 15, alpha=0.05)\n",
    "plt.show()"
   ]
  },
  {
   "cell_type": "code",
   "execution_count": 44,
   "id": "6f2ddbb0-13fd-427c-9da6-6ab4c3e18e4e",
   "metadata": {},
   "outputs": [
    {
     "data": {
      "image/png": "[encoded data removed]",
      "text/plain": [
       "<Figure size 432x288 with 1 Axes>"
      ]
     },
     "metadata": {
      "needs_background": "light"
     },
     "output_type": "display_data"
    }
   ],
   "source": [
    "korea_ts_diff_df = korea_ts_df['GDP'].diff().diff().dropna()\n",
    "plot_acf(korea_ts_diff_df, lags= 15, alpha=0.05)\n",
    "plt.show()"
   ]
  },
  {
   "cell_type": "code",
   "execution_count": 45,
   "id": "6bc0d319-6e0a-43f2-8829-e468efe73a29",
   "metadata": {},
   "outputs": [
    {
     "data": {
      "text/plain": [
       "(-1.6932408632573437,\n",
       " 0.4345983092057901,\n",
       " 2,\n",
       " 16,\n",
       " {'1%': -3.9240193847656246, '5%': -3.0684982031250003, '10%': -2.67389265625},\n",
       " 576.3501586563646)"
      ]
     },
     "execution_count": 45,
     "metadata": {},
     "output_type": "execute_result"
    }
   ],
   "source": [
    "adfuller(korea_ts_df['GDP'])"
   ]
  },
  {
   "cell_type": "code",
   "execution_count": 46,
   "id": "8e3faa4e-c184-464e-ad87-ee25d745b935",
   "metadata": {},
   "outputs": [
    {
     "data": {
      "text/plain": [
       "(-6.822894250587847,\n",
       " 1.9811319154742033e-09,\n",
       " 1,\n",
       " 15,\n",
       " {'1%': -3.9644434814814815,\n",
       "  '5%': -3.0849081481481484,\n",
       "  '10%': -2.6818144444444445},\n",
       " 529.160685826515)"
      ]
     },
     "execution_count": 46,
     "metadata": {},
     "output_type": "execute_result"
    }
   ],
   "source": [
    "adfuller(korea_ts_diff_df)"
   ]
  },
  {
   "cell_type": "code",
   "execution_count": 47,
   "id": "ec01e72b-d4c0-4543-9bc7-dedf57ece403",
   "metadata": {},
   "outputs": [
    {
     "name": "stderr",
     "output_type": "stream",
     "text": [
      "C:\\Users\\spoor\\anaconda3\\lib\\site-packages\\statsmodels\\regression\\linear_model.py:1434: RuntimeWarning: invalid value encountered in sqrt\n",
      "  return rho, np.sqrt(sigmasq)\n"
     ]
    },
    {
     "data": {
      "image/png": "[encoded data removed]",
      "text/plain": [
       "<Figure size 432x288 with 1 Axes>"
      ]
     },
     "metadata": {
      "needs_background": "light"
     },
     "output_type": "display_data"
    }
   ],
   "source": [
    "plot_pacf(korea_ts_diff_df, lags= 6, alpha=0.05)\n",
    "plt.show()"
   ]
  },
  {
   "cell_type": "code",
   "execution_count": 48,
   "id": "7ca3f4b6-b83a-4e0d-ad59-fd072523e7f7",
   "metadata": {},
   "outputs": [
    {
     "name": "stderr",
     "output_type": "stream",
     "text": [
      "C:\\Users\\spoor\\anaconda3\\lib\\site-packages\\statsmodels\\regression\\linear_model.py:1434: RuntimeWarning: invalid value encountered in sqrt\n",
      "  return rho, np.sqrt(sigmasq)\n"
     ]
    },
    {
     "data": {
      "image/png": "[encoded data removed]",
      "text/plain": [
       "<Figure size 576x576 with 2 Axes>"
      ]
     },
     "metadata": {
      "needs_background": "light"
     },
     "output_type": "display_data"
    }
   ],
   "source": [
    "# Create figure\n",
    "fig, (ax1, ax2) = plt.subplots(2,1, figsize=(8,8))\n",
    "# Make ACF plot\n",
    "plot_acf(korea_ts_diff_df, lags=6, zero=False, ax=ax1)\n",
    "# Make PACF plot\n",
    "plot_pacf(korea_ts_diff_df, lags=6, zero=False, ax=ax2)\n",
    "plt.show()"
   ]
  },
  {
   "cell_type": "code",
   "execution_count": 49,
   "id": "5e983a0c-ef2b-471d-9791-dc3b12eb99a2",
   "metadata": {},
   "outputs": [
    {
     "name": "stdout",
     "output_type": "stream",
     "text": [
      "0 0 953.2331827646386 959.8988895170884\n",
      "0 1 922.1626485962582 929.6615686927641\n",
      "0 2 924.1548666068355 932.4870000473977\n",
      "1 0 922.1420089385792 929.6409290350852\n",
      "1 1 924.1209414621445 932.4530749027067\n",
      "1 2 926.2371200752541 935.4024668598724\n",
      "2 0 924.3793380858054 932.7114715263676\n",
      "2 1 926.4897829304122 935.6551297150305\n",
      "2 2 928.206601207644 938.2051613363186\n"
     ]
    }
   ],
   "source": [
    "import warnings\n",
    "warnings.filterwarnings(\"ignore\")\n",
    "# Loop over AR order\n",
    "for p in range(3):\n",
    "# Loop over MA order\n",
    "    for q in range(3):\n",
    "    # Fit model\n",
    "        try:\n",
    "            model = SARIMAX(korea_ts_df['GDP'], order=(p,2,q), exog=korea_ts_df[['Trade','Industry','Domestic_credit','Manufacturing','General_government_final_consumption_expenditure','consumption_expenditure','agriculture']])\n",
    "            results = model.fit()\n",
    "            # print the model order and the AIC/BIC values\n",
    "            print(p, q, results.aic, results.bic)\n",
    "        except Exception:\n",
    "            print(p, q, None, None)"
   ]
  },
  {
   "cell_type": "code",
   "execution_count": 50,
   "id": "14072807-abc8-4f66-afc6-3ac6d45368a1",
   "metadata": {},
   "outputs": [
    {
     "name": "stdout",
     "output_type": "stream",
     "text": [
      "0 0 955.9720678987211 957.6384945868335\n",
      "0 1 921.655857259175 924.1554972913436\n",
      "0 2 919.9313447015398 923.2641980777647\n",
      "1 0 925.3541990063097 927.8538390384783\n",
      "1 1 923.0150602801391 926.347913656364\n",
      "1 2 920.1222071378785 924.2882738581595\n",
      "2 0 921.7717674676061 925.104620843831\n",
      "2 1 919.0877248286722 923.2537915489532\n",
      "2 2 947.9438530608703 952.9431331252076\n"
     ]
    }
   ],
   "source": [
    "import warnings\n",
    "warnings.filterwarnings(\"ignore\")\n",
    "# Loop over AR order\n",
    "for p in range(3):\n",
    "# Loop over MA order\n",
    "    for q in range(3):\n",
    "    # Fit model\n",
    "        try:\n",
    "            model = SARIMAX(korea_ts_df['GDP'], order=(p,2,q), exog=korea_ts_df['constant_amount'])\n",
    "            results = model.fit()\n",
    "            # print the model order and the AIC/BIC values\n",
    "            print(p, q, results.aic, results.bic)\n",
    "        except Exception:\n",
    "            print(p, q, None, None)"
   ]
  },
  {
   "cell_type": "code",
   "execution_count": 51,
   "id": "ab7ca695-d19b-4a24-842c-a4d86603c918",
   "metadata": {},
   "outputs": [
    {
     "name": "stdout",
     "output_type": "stream",
     "text": [
      "year\n",
      "2011-01-01    1.274838e+12\n",
      "2012-01-01    1.274556e+12\n",
      "2013-01-01    1.333961e+12\n",
      "2014-01-01    1.472133e+12\n",
      "2015-01-01    1.560919e+12\n",
      "2016-01-01    1.507372e+12\n",
      "2017-01-01    1.587334e+12\n",
      "2018-01-01    1.717802e+12\n",
      "2019-01-01    1.778431e+12\n",
      "2020-01-01    1.686538e+12\n",
      "Name: predicted_mean, dtype: float64\n"
     ]
    }
   ],
   "source": [
    "# Build Final model for Korea\n",
    "model = SARIMAX(korea_ts_df['GDP'], order=(2,2,1), exog=korea_ts_df['constant_amount'])\n",
    "results = model.fit()\n",
    "# Predict \n",
    "one_step_forecast = results.get_prediction(start=-10)\n",
    "mean_forecast = one_step_forecast.predicted_mean\n",
    "confidence_intervals = one_step_forecast.conf_int()\n",
    "lower_limits = confidence_intervals.loc[:,'lower GDP']\n",
    "upper_limits = confidence_intervals.loc[:,'upper GDP']\n",
    "print(mean_forecast)"
   ]
  },
  {
   "cell_type": "code",
   "execution_count": 52,
   "id": "740e197a-9062-49d3-9b00-ceaeedb77efc",
   "metadata": {},
   "outputs": [
    {
     "data": {
      "image/png": "[encoded data removed]",
      "text/plain": [
       "<Figure size 1080x720 with 1 Axes>"
      ]
     },
     "metadata": {
      "needs_background": "light"
     },
     "output_type": "display_data"
    }
   ],
   "source": [
    "plt.figure(figsize =(15, 10))\n",
    "plt.plot(korea_ts_df.index, korea_ts_df.GDP, label='observed')\n",
    "\n",
    "# plot your mean predictions\n",
    "plt.plot(mean_forecast.index, mean_forecast, color='r', label='forecast')\n",
    "\n",
    "# shade the area between your confidence limits\n",
    "plt.fill_between(mean_forecast.index, lower_limits, upper_limits, color='pink')\n",
    "\n",
    "# set labels, legends and show plot\n",
    "plt.xlabel('Date')\n",
    "plt.ylabel('South Korea GDP')\n",
    "plt.legend()\n",
    "plt.show()"
   ]
  },
  {
   "cell_type": "markdown",
   "id": "d870b960-13e6-42e6-af20-a4926d4a8bbd",
   "metadata": {},
   "source": [
    "## Specific Country Analysis"
   ]
  },
  {
   "cell_type": "code",
   "execution_count": 53,
   "id": "7d53fab1-67dc-4fa8-aa0f-4766cb09ffe7",
   "metadata": {},
   "outputs": [
    {
     "name": "stdout",
     "output_type": "stream",
     "text": [
      "0 0 961.3237424821348 963.1044859979271\n",
      "0 1 920.8377768566166 923.5088921303052\n",
      "0 2 921.6558829346741 925.2173699662587\n",
      "1 0 926.064606634675 928.7357219083635\n",
      "1 1 922.5204860923078 926.0819731238925\n",
      "1 2 922.7907646171423 927.2426234066231\n",
      "2 0 925.3604114615919 928.9218984931765\n",
      "2 1 923.4565226099706 927.9083813994515\n",
      "2 2 923.2396222440749 928.5818527914519\n",
      "2011-01-01    2.887371e+11\n",
      "2012-01-01    3.138185e+11\n",
      "2013-01-01    3.333503e+11\n",
      "2014-01-01    3.471934e+11\n",
      "2015-01-01    3.620689e+11\n",
      "2016-01-01    3.134900e+11\n",
      "2017-01-01    3.217823e+11\n",
      "2018-01-01    3.329440e+11\n",
      "2019-01-01    3.857674e+11\n",
      "2020-01-01    3.538988e+11\n",
      "Freq: AS-JAN, Name: predicted_mean, dtype: float64\n"
     ]
    },
    {
     "data": {
      "image/png": "[encoded data removed]",
      "text/plain": [
       "<Figure size 1080x720 with 1 Axes>"
      ]
     },
     "metadata": {
      "needs_background": "light"
     },
     "output_type": "display_data"
    }
   ],
   "source": [
    "import warnings\n",
    "warnings.filterwarnings(\"ignore\")\n",
    "# Loop over AR order\n",
    "for p in range(3):\n",
    "# Loop over MA order\n",
    "    for q in range(3):\n",
    "    # Fit model\n",
    "        try:\n",
    "            model = SARIMAX(country_ts_df['GDP'], order=(p,2,q), exog=country_ts_df['constant_amount'])\n",
    "            results = model.fit()\n",
    "            # print the model order and the AIC/BIC values\n",
    "            print(p, q, results.aic, results.bic)\n",
    "        except Exception:\n",
    "            print(p, q, None, None)\n",
    "            \n",
    "# Build Final model for Korea\n",
    "model = SARIMAX(country_ts_df['GDP'], order=(2,2,1), exog=country_ts_df['constant_amount'])\n",
    "results = model.fit()\n",
    "# Predict \n",
    "one_step_forecast = results.get_prediction(start=-10)\n",
    "mean_forecast = one_step_forecast.predicted_mean\n",
    "confidence_intervals = one_step_forecast.conf_int()\n",
    "lower_limits = confidence_intervals.loc[:,'lower GDP']\n",
    "upper_limits = confidence_intervals.loc[:,'upper GDP']\n",
    "print(mean_forecast)\n",
    "\n",
    "# Plotting the results\n",
    "plt.figure(figsize =(15, 10))\n",
    "plt.plot(country_ts_df.index, country_ts_df.GDP, label='observed')\n",
    "\n",
    "# plot your mean predictions\n",
    "plt.plot(mean_forecast.index, mean_forecast, color='r', label='forecast')\n",
    "\n",
    "# shade the area between your confidence limits\n",
    "plt.fill_between(mean_forecast.index, lower_limits, upper_limits, color='pink')\n",
    "\n",
    "\n",
    "# set labels, legends and show plot\n",
    "plt.xlabel('Date')\n",
    "plt.ylabel('Comparison Country GDP')\n",
    "plt.legend()\n",
    "plt.show()"
   ]
  },
  {
   "cell_type": "code",
   "execution_count": 54,
   "id": "ba563278-133a-4560-b3f8-a0369b7a7abb",
   "metadata": {},
   "outputs": [
    {
     "name": "stdout",
     "output_type": "stream",
     "text": [
      "2011-01-01    2.887371e+11\n",
      "2012-01-01    3.138185e+11\n",
      "2013-01-01    3.333503e+11\n",
      "2014-01-01    3.471934e+11\n",
      "2015-01-01    3.620689e+11\n",
      "2016-01-01    3.134900e+11\n",
      "2017-01-01    3.217823e+11\n",
      "2018-01-01    3.329440e+11\n",
      "2019-01-01    3.857674e+11\n",
      "2020-01-01    3.538988e+11\n",
      "Freq: AS-JAN, Name: predicted_mean, dtype: float64\n"
     ]
    }
   ],
   "source": [
    "# Build Final model for Korea\n",
    "model = SARIMAX(country_ts_df['GDP'], order=(2,2,1), exog=country_ts_df['constant_amount'])\n",
    "results = model.fit()\n",
    "# Predict \n",
    "one_step_forecast = results.get_prediction(start=-10)\n",
    "mean_forecast = one_step_forecast.predicted_mean\n",
    "confidence_intervals = one_step_forecast.conf_int()\n",
    "lower_limits = confidence_intervals.loc[:,'lower GDP']\n",
    "upper_limits = confidence_intervals.loc[:,'upper GDP']\n",
    "print(mean_forecast)"
   ]
  },
  {
   "cell_type": "code",
   "execution_count": null,
   "id": "95a8d539-92c5-4d46-8534-b8e7e2a3ded0",
   "metadata": {},
   "outputs": [],
   "source": []
  },
  {
   "cell_type": "code",
   "execution_count": null,
   "id": "ab7458ac-b761-4847-8990-f1e209afc18e",
   "metadata": {},
   "outputs": [],
   "source": []
  }
 ],
 "metadata": {
  "kernelspec": {
   "display_name": "Python 3 (ipykernel)",
   "language": "python",
   "name": "python3"
  },
  "language_info": {
   "codemirror_mode": {
    "name": "ipython",
    "version": 3
   },
   "file_extension": ".py",
   "mimetype": "text/x-python",
   "name": "python",
   "nbconvert_exporter": "python",
   "pygments_lexer": "ipython3",
   "version": "3.9.7"
  }
 },
 "nbformat": 4,
 "nbformat_minor": 5
}
