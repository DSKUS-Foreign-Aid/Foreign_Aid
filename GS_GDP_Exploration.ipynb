{
 "cells": [
  {
   "cell_type": "markdown",
   "id": "6771345d-1ecf-47ac-954d-64694af095d6",
   "metadata": {},
   "source": [
    "# GDP Data Exploration"
   ]
  },
  {
   "cell_type": "code",
   "execution_count": 14,
   "id": "bd75624e-4a47-4505-8d61-d17296e52e7d",
   "metadata": {},
   "outputs": [],
   "source": [
    "import AidUtilities as aid_utils\n",
    "import AidUtilities.utilities as utils"
   ]
  },
  {
   "cell_type": "code",
   "execution_count": 15,
   "id": "06cf4724-3fa5-4fdc-8036-007f10bce8d1",
   "metadata": {},
   "outputs": [],
   "source": [
    "from importlib import reload"
   ]
  },
  {
   "cell_type": "code",
   "execution_count": 20,
   "id": "88dd6db1-e73c-46c2-8438-2fd42e0108ac",
   "metadata": {},
   "outputs": [
    {
     "data": {
      "text/plain": [
       "<module 'AidUtilities.utilities' from '/home/gsandoval/Documents/Classes/depaul/Korea/Foreign_Aid/AidUtilities/utilities.py'>"
      ]
     },
     "execution_count": 20,
     "metadata": {},
     "output_type": "execute_result"
    }
   ],
   "source": [
    "reload(utils)"
   ]
  },
  {
   "cell_type": "code",
   "execution_count": 6,
   "id": "b245cbb3-30de-448a-accc-cf773736a45b",
   "metadata": {},
   "outputs": [],
   "source": [
    "import pandas as pd"
   ]
  },
  {
   "cell_type": "code",
   "execution_count": 7,
   "id": "bb3323dc-d27b-4d67-bc33-d8a478149d2c",
   "metadata": {},
   "outputs": [
    {
     "name": "stderr",
     "output_type": "stream",
     "text": [
      "/home/gsandoval/.local/lib/python3.10/site-packages/pandas/util/_decorators.py:311: ParserWarning: Falling back to the 'python' engine because the 'c' engine does not support skipfooter; you can avoid this warning by specifying engine='python'.\n",
      "  return func(*args, **kwargs)\n"
     ]
    }
   ],
   "source": [
    "data_path = '/home/gsandoval/Documents/Classes/depaul/Korea/Data/'+\\\n",
    "            'WorldBank_GDP/LatinAmericaKorea_GDP_BySeries/LatAmKorea_GDP_Data.txt'\n",
    "gdp_data = pd.read_csv(data_path, sep='\\t', skipfooter=5)"
   ]
  },
  {
   "cell_type": "code",
   "execution_count": 9,
   "id": "ca4f53e7-d6f2-41b4-a217-d441fdd2a660",
   "metadata": {},
   "outputs": [
    {
     "data": {
      "text/html": [
       "<div>\n",
       "<style scoped>\n",
       "    .dataframe tbody tr th:only-of-type {\n",
       "        vertical-align: middle;\n",
       "    }\n",
       "\n",
       "    .dataframe tbody tr th {\n",
       "        vertical-align: top;\n",
       "    }\n",
       "\n",
       "    .dataframe thead th {\n",
       "        text-align: right;\n",
       "    }\n",
       "</style>\n",
       "<table border=\"1\" class=\"dataframe\">\n",
       "  <thead>\n",
       "    <tr style=\"text-align: right;\">\n",
       "      <th></th>\n",
       "      <th>Series Name</th>\n",
       "      <th>Series Code</th>\n",
       "      <th>Country Name</th>\n",
       "      <th>Country Code</th>\n",
       "      <th>1960 [YR1960]</th>\n",
       "      <th>1961 [YR1961]</th>\n",
       "      <th>1962 [YR1962]</th>\n",
       "      <th>1963 [YR1963]</th>\n",
       "      <th>1964 [YR1964]</th>\n",
       "      <th>1965 [YR1965]</th>\n",
       "      <th>...</th>\n",
       "      <th>2011 [YR2011]</th>\n",
       "      <th>2012 [YR2012]</th>\n",
       "      <th>2013 [YR2013]</th>\n",
       "      <th>2014 [YR2014]</th>\n",
       "      <th>2015 [YR2015]</th>\n",
       "      <th>2016 [YR2016]</th>\n",
       "      <th>2017 [YR2017]</th>\n",
       "      <th>2018 [YR2018]</th>\n",
       "      <th>2019 [YR2019]</th>\n",
       "      <th>2020 [YR2020]</th>\n",
       "    </tr>\n",
       "  </thead>\n",
       "  <tbody>\n",
       "    <tr>\n",
       "      <th>0</th>\n",
       "      <td>Agriculture, forestry, and fishing, value adde...</td>\n",
       "      <td>NV.AGR.TOTL.ZS</td>\n",
       "      <td>Argentina</td>\n",
       "      <td>ARG</td>\n",
       "      <td>NaN</td>\n",
       "      <td>NaN</td>\n",
       "      <td>NaN</td>\n",
       "      <td>NaN</td>\n",
       "      <td>NaN</td>\n",
       "      <td>12.904163</td>\n",
       "      <td>...</td>\n",
       "      <td>6.998734</td>\n",
       "      <td>5.781744</td>\n",
       "      <td>6.052918</td>\n",
       "      <td>6.712704</td>\n",
       "      <td>5.156686</td>\n",
       "      <td>6.264566</td>\n",
       "      <td>5.231622</td>\n",
       "      <td>4.537879</td>\n",
       "      <td>5.111017</td>\n",
       "      <td>5.932404</td>\n",
       "    </tr>\n",
       "    <tr>\n",
       "      <th>1</th>\n",
       "      <td>Agriculture, forestry, and fishing, value adde...</td>\n",
       "      <td>NV.AGR.TOTL.ZS</td>\n",
       "      <td>Belize</td>\n",
       "      <td>BLZ</td>\n",
       "      <td>NaN</td>\n",
       "      <td>NaN</td>\n",
       "      <td>NaN</td>\n",
       "      <td>NaN</td>\n",
       "      <td>NaN</td>\n",
       "      <td>NaN</td>\n",
       "      <td>...</td>\n",
       "      <td>11.650448</td>\n",
       "      <td>13.425592</td>\n",
       "      <td>13.711682</td>\n",
       "      <td>13.723112</td>\n",
       "      <td>12.925764</td>\n",
       "      <td>11.099008</td>\n",
       "      <td>11.199907</td>\n",
       "      <td>9.557799</td>\n",
       "      <td>8.967972</td>\n",
       "      <td>10.709978</td>\n",
       "    </tr>\n",
       "  </tbody>\n",
       "</table>\n",
       "<p>2 rows × 65 columns</p>\n",
       "</div>"
      ],
      "text/plain": [
       "                                         Series Name     Series Code  \\\n",
       "0  Agriculture, forestry, and fishing, value adde...  NV.AGR.TOTL.ZS   \n",
       "1  Agriculture, forestry, and fishing, value adde...  NV.AGR.TOTL.ZS   \n",
       "\n",
       "  Country Name Country Code  1960 [YR1960]  1961 [YR1961]  1962 [YR1962]  \\\n",
       "0    Argentina          ARG            NaN            NaN            NaN   \n",
       "1       Belize          BLZ            NaN            NaN            NaN   \n",
       "\n",
       "   1963 [YR1963]  1964 [YR1964]  1965 [YR1965]  ...  2011 [YR2011]  \\\n",
       "0            NaN            NaN      12.904163  ...       6.998734   \n",
       "1            NaN            NaN            NaN  ...      11.650448   \n",
       "\n",
       "   2012 [YR2012]  2013 [YR2013]  2014 [YR2014]  2015 [YR2015]  2016 [YR2016]  \\\n",
       "0       5.781744       6.052918       6.712704       5.156686       6.264566   \n",
       "1      13.425592      13.711682      13.723112      12.925764      11.099008   \n",
       "\n",
       "   2017 [YR2017]  2018 [YR2018]  2019 [YR2019]  2020 [YR2020]  \n",
       "0       5.231622       4.537879       5.111017       5.932404  \n",
       "1      11.199907       9.557799       8.967972      10.709978  \n",
       "\n",
       "[2 rows x 65 columns]"
      ]
     },
     "execution_count": 9,
     "metadata": {},
     "output_type": "execute_result"
    }
   ],
   "source": [
    "gdp_data.head(2)"
   ]
  },
  {
   "cell_type": "code",
   "execution_count": 10,
   "id": "fc0e3490-cc0e-4e04-82b4-22e2097b6424",
   "metadata": {},
   "outputs": [],
   "source": [
    "gdp_data = utils.clean_col_names(gdp_data)"
   ]
  },
  {
   "cell_type": "code",
   "execution_count": 11,
   "id": "4fc696a3-2961-4c69-81e7-1862dcc7ee50",
   "metadata": {},
   "outputs": [
    {
     "data": {
      "text/html": [
       "<div>\n",
       "<style scoped>\n",
       "    .dataframe tbody tr th:only-of-type {\n",
       "        vertical-align: middle;\n",
       "    }\n",
       "\n",
       "    .dataframe tbody tr th {\n",
       "        vertical-align: top;\n",
       "    }\n",
       "\n",
       "    .dataframe thead th {\n",
       "        text-align: right;\n",
       "    }\n",
       "</style>\n",
       "<table border=\"1\" class=\"dataframe\">\n",
       "  <thead>\n",
       "    <tr style=\"text-align: right;\">\n",
       "      <th></th>\n",
       "      <th>Series_Name</th>\n",
       "      <th>Series_Code</th>\n",
       "      <th>Country_Name</th>\n",
       "      <th>Country_Code</th>\n",
       "      <th>1960</th>\n",
       "      <th>1961</th>\n",
       "      <th>1962</th>\n",
       "      <th>1963</th>\n",
       "      <th>1964</th>\n",
       "      <th>1965</th>\n",
       "      <th>...</th>\n",
       "      <th>2011</th>\n",
       "      <th>2012</th>\n",
       "      <th>2013</th>\n",
       "      <th>2014</th>\n",
       "      <th>2015</th>\n",
       "      <th>2016</th>\n",
       "      <th>2017</th>\n",
       "      <th>2018</th>\n",
       "      <th>2019</th>\n",
       "      <th>2020</th>\n",
       "    </tr>\n",
       "  </thead>\n",
       "  <tbody>\n",
       "    <tr>\n",
       "      <th>0</th>\n",
       "      <td>Agriculture, forestry, and fishing, value adde...</td>\n",
       "      <td>NV.AGR.TOTL.ZS</td>\n",
       "      <td>Argentina</td>\n",
       "      <td>ARG</td>\n",
       "      <td>NaN</td>\n",
       "      <td>NaN</td>\n",
       "      <td>NaN</td>\n",
       "      <td>NaN</td>\n",
       "      <td>NaN</td>\n",
       "      <td>12.904163</td>\n",
       "      <td>...</td>\n",
       "      <td>6.998734</td>\n",
       "      <td>5.781744</td>\n",
       "      <td>6.052918</td>\n",
       "      <td>6.712704</td>\n",
       "      <td>5.156686</td>\n",
       "      <td>6.264566</td>\n",
       "      <td>5.231622</td>\n",
       "      <td>4.537879</td>\n",
       "      <td>5.111017</td>\n",
       "      <td>5.932404</td>\n",
       "    </tr>\n",
       "    <tr>\n",
       "      <th>1</th>\n",
       "      <td>Agriculture, forestry, and fishing, value adde...</td>\n",
       "      <td>NV.AGR.TOTL.ZS</td>\n",
       "      <td>Belize</td>\n",
       "      <td>BLZ</td>\n",
       "      <td>NaN</td>\n",
       "      <td>NaN</td>\n",
       "      <td>NaN</td>\n",
       "      <td>NaN</td>\n",
       "      <td>NaN</td>\n",
       "      <td>NaN</td>\n",
       "      <td>...</td>\n",
       "      <td>11.650448</td>\n",
       "      <td>13.425592</td>\n",
       "      <td>13.711682</td>\n",
       "      <td>13.723112</td>\n",
       "      <td>12.925764</td>\n",
       "      <td>11.099008</td>\n",
       "      <td>11.199907</td>\n",
       "      <td>9.557799</td>\n",
       "      <td>8.967972</td>\n",
       "      <td>10.709978</td>\n",
       "    </tr>\n",
       "  </tbody>\n",
       "</table>\n",
       "<p>2 rows × 65 columns</p>\n",
       "</div>"
      ],
      "text/plain": [
       "                                         Series_Name     Series_Code  \\\n",
       "0  Agriculture, forestry, and fishing, value adde...  NV.AGR.TOTL.ZS   \n",
       "1  Agriculture, forestry, and fishing, value adde...  NV.AGR.TOTL.ZS   \n",
       "\n",
       "  Country_Name Country_Code  1960  1961  1962  1963  1964       1965  ...  \\\n",
       "0    Argentina          ARG   NaN   NaN   NaN   NaN   NaN  12.904163  ...   \n",
       "1       Belize          BLZ   NaN   NaN   NaN   NaN   NaN        NaN  ...   \n",
       "\n",
       "        2011       2012       2013       2014       2015       2016  \\\n",
       "0   6.998734   5.781744   6.052918   6.712704   5.156686   6.264566   \n",
       "1  11.650448  13.425592  13.711682  13.723112  12.925764  11.099008   \n",
       "\n",
       "        2017      2018      2019       2020  \n",
       "0   5.231622  4.537879  5.111017   5.932404  \n",
       "1  11.199907  9.557799  8.967972  10.709978  \n",
       "\n",
       "[2 rows x 65 columns]"
      ]
     },
     "execution_count": 11,
     "metadata": {},
     "output_type": "execute_result"
    }
   ],
   "source": [
    "gdp_data.head(2)"
   ]
  },
  {
   "cell_type": "code",
   "execution_count": 83,
   "id": "3bb753db-42a7-4be3-96d0-b2d0f5e33a6c",
   "metadata": {},
   "outputs": [],
   "source": [
    "def create_series_names(series_names, return_tuple=False):\n",
    "    '''Designed to take in World Bank dataframe with multiple series(studies).\n",
    "    Then ask for user input on what the new series name should be.\n",
    "    If \"quit\" is entered as a value, the function exits and returns input values to that point.\n",
    "    Args:\n",
    "        series_names(pandas.series): expects a series of world bank series\n",
    "        return_tuple(bool): \n",
    "            if True--returns a list of tuples. \n",
    "                the tuples contain (old_series_name, new_series_name)\n",
    "            if False-- returns a list of strings that correspond to \n",
    "                the new name for each series\n",
    "    Returns:\n",
    "        List of either string elements of tuples.  The return object is based on return_tuple value.\n",
    "    '''\n",
    "    new_series_names = []\n",
    "    for series in series_names:\n",
    "        print(series)\n",
    "        new_name = input('new name: ')\n",
    "        if new_name == 'quit':\n",
    "            return print(new_series_names)\n",
    "        # return a list of tuples. \n",
    "        if return_tuple:\n",
    "            new_series_names.append((old_series, new_name))\n",
    "        else:\n",
    "            new_series_names.append(new_name)\n",
    "    return new_series_names"
   ]
  },
  {
   "cell_type": "code",
   "execution_count": 36,
   "id": "d346f10f-4616-4656-a641-94b8cb6b4a52",
   "metadata": {},
   "outputs": [
    {
     "name": "stdout",
     "output_type": "stream",
     "text": [
      "51\n"
     ]
    }
   ],
   "source": [
    "series_names = gdp_data.Series_Name.unique()\n",
    "series_codes = gdp_data.Series_Code.unique()\n",
    "print(len(series_codes))"
   ]
  },
  {
   "cell_type": "code",
   "execution_count": null,
   "id": "3e2bc766-4c3a-4c1b-ac99-0140dbbfbac3",
   "metadata": {},
   "outputs": [],
   "source": [
    "utils.create_series_names(series_names)"
   ]
  },
  {
   "cell_type": "code",
   "execution_count": 40,
   "id": "7f30945b-2d22-48e1-bb1f-4df853d1f6fc",
   "metadata": {},
   "outputs": [],
   "source": [
    "new_series_names = [\n",
    "    'AggForestFish_PctGDP', 'GovtDebt_Total', 'CoalRents_PctGDP',\n",
    "    'HealthExp_PctGDP', 'Cred2Private_PctGDP', 'GovtHealth_PctGDP',\n",
    "    'ExportsGoodServices_PctGDP', 'FinalConsumpExp_PctGDP', 'ForeignInvstOutflow_PctGDP',\n",
    "    'GDP_2015USD', 'GDP_LCU', 'GDP_PctGrowth', 'PerCapita_GDP_LCU',\n",
    "    'PerCapita_GDP_USD', 'PerEmployed_GDP_2017PPP', 'EnergyUnit_GDP_PPP',\n",
    "    'GovtConsumption_PctGDP', 'DomSavings_PctGDP', 'Savings_PctGDP',\n",
    "    'ImportGoodService_PctGDP', 'Inflation_Pct', 'Manufacturing_PctGDP',\n",
    "    'MerchTrade_PctGDP', 'Mineral_PctGDP', 'NatGas_PctGDP',\n",
    "    'Lend(+)Borrow(-)_PctGDP', 'Remittance_PctGDP', 'RevenueExGrants_PctGDP',\n",
    "    'StocksTraded_PctGDP', 'NatResourcRents_PctGDP', 'InServiceTrade_PctGDP',\n",
    "    'BroadMoney_PctGDP', 'CurrentAcctBal_PctGDP', 'CreditByFin_PctGDP', 'CreditByBanks_PctGDP',\n",
    "    'Expense_PctGDP', 'ForeignInvstInflow_PctGDP', 'ForestRents_PctGDP',\n",
    "    'GDP_LCU', 'GDP_USD', 'PerCapita_GDP_2015USD', 'PerCapita_GDP_LCU',\n",
    "    'GDPGrowth_Pct', 'EducExp_PctGDP', 'Industry_PctGDP',\n",
    "    'Defense_PctGDP', 'OilRents_PctGDP', 'RnD_PctGDP',\n",
    "    'Services_PctGDP', 'Trade_PctGDP', 'TaxRev_PctGDP']"
   ]
  },
  {
   "cell_type": "code",
   "execution_count": 41,
   "id": "9c512b78-a21e-47b9-9594-b0d594f6f396",
   "metadata": {},
   "outputs": [
    {
     "name": "stdout",
     "output_type": "stream",
     "text": [
      "51\n",
      "51\n"
     ]
    }
   ],
   "source": [
    "print(len(new_series_names))\n",
    "print(len(series_names))"
   ]
  },
  {
   "cell_type": "code",
   "execution_count": 52,
   "id": "e8d8f645-39c2-4059-9a88-a2b15a84b4eb",
   "metadata": {},
   "outputs": [
    {
     "name": "stdout",
     "output_type": "stream",
     "text": [
      "51\n",
      "   Series Code\t                        Series Name                         \tNew Name\n",
      "0 .NV.AGR.TOTL.ZS\tAgriculture, forestry, and fishing, value added (% of GDP)  \tAggForestFish_PctGDP\n",
      "1 .GC.DOD.TOTL.GD.ZS\tCentral government debt, total (% of GDP)                   \tGovtDebt_Total\n",
      "2 .NY.GDP.COAL.RT.ZS\tCoal rents (% of GDP)                                       \tCoalRents_PctGDP\n",
      "3 .SH.XPD.CHEX.GD.ZS\tCurrent health expenditure (% of GDP)                       \tHealthExp_PctGDP\n",
      "4 .FS.AST.PRVT.GD.ZS\tDomestic credit to private sector (% of GDP)                \tCred2Private_PctGDP\n",
      "5 .SH.XPD.GHED.GD.ZS\tDomestic general government health expenditure (% of GDP)   \tGovtHealth_PctGDP\n",
      "6 .NE.EXP.GNFS.ZS\tExports of goods and services (% of GDP)                    \tExportsGoodServices_PctGDP\n",
      "7 .NE.CON.TOTL.ZS\tFinal consumption expenditure (% of GDP)                    \tFinalConsumpExp_PctGDP\n",
      "8 .BM.KLT.DINV.WD.GD.ZS\tForeign direct investment, net outflows (% of GDP)          \tForeignInvstOutflow_PctGDP\n",
      "9 .NY.GDP.MKTP.KD\tGDP (constant 2015 US$)                                     \tGDP_2015USD\n",
      "10.NY.GDP.MKTP.CN\tGDP (current LCU)                                           \tGDP_LCU\n",
      "11.NY.GDP.MKTP.KD.ZG\tGDP growth (annual %)                                       \tGDP_PctGrowth\n",
      "12.NY.GDP.PCAP.KN\tGDP per capita (constant LCU)                               \tPerCapita_GDP_LCU\n",
      "13.NY.GDP.PCAP.CD\tGDP per capita (current US$)                                \tPerCapita_GDP_USD\n",
      "14.SL.GDP.PCAP.EM.KD\tGDP per person employed (constant 2017 PPP $)               \tPerEmployed_GDP_2017PPP\n",
      "15.EG.GDP.PUSE.KO.PP\tGDP per unit of energy use (PPP $ per kg of oil equivalent) \tEnergyUnit_GDP_PPP\n",
      "16.NE.CON.GOVT.ZS\tGeneral government final consumption expenditure (% of GDP) \tGovtConsumption_PctGDP\n",
      "17.NY.GDS.TOTL.ZS\tGross domestic savings (% of GDP)                           \tDomSavings_PctGDP\n",
      "18.NY.GNS.ICTR.ZS\tGross savings (% of GDP)                                    \tSavings_PctGDP\n",
      "19.NE.IMP.GNFS.ZS\tImports of goods and services (% of GDP)                    \tImportGoodService_PctGDP\n",
      "20.NY.GDP.DEFL.KD.ZG\tInflation, GDP deflator (annual %)                          \tInflation_Pct\n",
      "21.NV.IND.MANF.ZS\tManufacturing, value added (% of GDP)                       \tManufacturing_PctGDP\n",
      "22.TG.VAL.TOTL.GD.ZS\tMerchandise trade (% of GDP)                                \tMerchTrade_PctGDP\n",
      "23.NY.GDP.MINR.RT.ZS\tMineral rents (% of GDP)                                    \tMineral_PctGDP\n",
      "24.NY.GDP.NGAS.RT.ZS\tNatural gas rents (% of GDP)                                \tNatGas_PctGDP\n",
      "25.GC.NLD.TOTL.GD.ZS\tNet lending (+) / net borrowing (-) (% of GDP)              \tLend(+)Borrow(-)_PctGDP\n",
      "26.BX.TRF.PWKR.DT.GD.ZS\tPersonal remittances, received (% of GDP)                   \tRemittance_PctGDP\n",
      "27.GC.REV.XGRT.GD.ZS\tRevenue, excluding grants (% of GDP)                        \tRevenueExGrants_PctGDP\n",
      "28.CM.MKT.TRAD.GD.ZS\tStocks traded, total value (% of GDP)                       \tStocksTraded_PctGDP\n",
      "29.NY.GDP.TOTL.RT.ZS\tTotal natural resources rents (% of GDP)                    \tNatResourcRents_PctGDP\n",
      "30.BG.GSR.NFSV.GD.ZS\tTrade in services (% of GDP)                                \tInServiceTrade_PctGDP\n",
      "31.FM.LBL.BMNY.GD.ZS\tBroad money (% of GDP)                                      \tBroadMoney_PctGDP\n",
      "32.BN.CAB.XOKA.GD.ZS\tCurrent account balance (% of GDP)                          \tCurrentAcctBal_PctGDP\n",
      "33.FS.AST.DOMS.GD.ZS\tDomestic credit provided by financial sector (% of GDP)     \tCreditByFin_PctGDP\n",
      "34.FD.AST.PRVT.GD.ZS\tDomestic credit to private sector by banks (% of GDP)       \tCreditByBanks_PctGDP\n",
      "35.GC.XPN.TOTL.GD.ZS\tExpense (% of GDP)                                          \tExpense_PctGDP\n",
      "36.BX.KLT.DINV.WD.GD.ZS\tForeign direct investment, net inflows (% of GDP)           \tForeignInvstInflow_PctGDP\n",
      "37.NY.GDP.FRST.RT.ZS\tForest rents (% of GDP)                                     \tForestRents_PctGDP\n",
      "38.NY.GDP.MKTP.KN\tGDP (constant LCU)                                          \tGDP_LCU\n",
      "39.NY.GDP.MKTP.CD\tGDP (current US$)                                           \tGDP_USD\n",
      "40.NY.GDP.PCAP.KD\tGDP per capita (constant 2015 US$)                          \tPerCapita_GDP_2015USD\n",
      "41.NY.GDP.PCAP.CN\tGDP per capita (current LCU)                                \tPerCapita_GDP_LCU\n",
      "42.NY.GDP.PCAP.KD.ZG\tGDP per capita growth (annual %)                            \tGDPGrowth_Pct\n",
      "43.SE.XPD.TOTL.GD.ZS\tGovernment expenditure on education, total (% of GDP)       \tEducExp_PctGDP\n",
      "44.NV.IND.TOTL.ZS\tIndustry (including construction), value added (% of GDP)   \tIndustry_PctGDP\n",
      "45.MS.MIL.XPND.GD.ZS\tMilitary expenditure (% of GDP)                             \tDefense_PctGDP\n",
      "46.NY.GDP.PETR.RT.ZS\tOil rents (% of GDP)                                        \tOilRents_PctGDP\n",
      "47.GB.XPD.RSDV.GD.ZS\tResearch and development expenditure (% of GDP)             \tRnD_PctGDP\n",
      "48.NV.SRV.TOTL.ZS\tServices, value added (% of GDP)                            \tServices_PctGDP\n",
      "49.NE.TRD.GNFS.ZS\tTrade (% of GDP)                                            \tTrade_PctGDP\n",
      "50.GC.TAX.TOTL.GD.ZS\tTax revenue (% of GDP)                                      \tTaxRev_PctGDP\n"
     ]
    }
   ],
   "source": [
    "# merge old series names with new seires names\n",
    "series_pairs = [(a, b) for a, b in zip(series_names, new_series_names)]\n",
    "print(len(series_pairs))\n",
    "\n",
    "count = 0\n",
    "for a, b, c in zip(series_codes, series_names, new_series_names):\n",
    "    if count == 0:\n",
    "        print(f'   {\"Series Code\":>11}\\t{\"Series Name\": ^60}\\t{\"New Name\": ^}')\n",
    "    print(f'{count:<2}.{a:<11}\\t{b: <60}\\t{c: <}')\n",
    "    count += 1\n"
   ]
  },
  {
   "cell_type": "code",
   "execution_count": 55,
   "id": "452071a4-bf11-46ab-a11a-725658c95cd9",
   "metadata": {},
   "outputs": [],
   "source": [
    "# this is to generate a csv file with codes\n",
    "df_values = {'Series_Codes': series_codes, 'Series_Names': series_names, 'New_Series_Names': new_series_names}\n",
    "series_names_ref = pd.DataFrame(df_values)"
   ]
  },
  {
   "cell_type": "code",
   "execution_count": 54,
   "id": "d6722a07-c1f7-414e-8f29-584559a4265c",
   "metadata": {},
   "outputs": [],
   "source": [
    "series_names_ref.to_csv('Series_Names_Reference.csv', sep=',', index=False)"
   ]
  },
  {
   "cell_type": "code",
   "execution_count": null,
   "id": "7898aa83-e40b-4092-ad5b-5ea261f5ae4c",
   "metadata": {},
   "outputs": [],
   "source": []
  }
 ],
 "metadata": {
  "kernelspec": {
   "display_name": "Python 3 (ipykernel)",
   "language": "python",
   "name": "python3"
  },
  "language_info": {
   "codemirror_mode": {
    "name": "ipython",
    "version": 3
   },
   "file_extension": ".py",
   "mimetype": "text/x-python",
   "name": "python",
   "nbconvert_exporter": "python",
   "pygments_lexer": "ipython3",
   "version": "3.10.4"
  }
 },
 "nbformat": 4,
 "nbformat_minor": 5
}
