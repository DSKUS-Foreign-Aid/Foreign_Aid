{
 "cells": [
  {
   "cell_type": "code",
   "execution_count": null,
   "id": "bedf9b57",
   "metadata": {},
   "outputs": [],
   "source": [
    "import pandas as pd\n",
    "import numpy as np\n",
    "pd.set_option('display.max_columns', None)"
   ]
  },
  {
   "cell_type": "code",
   "execution_count": null,
   "id": "a45e5f51",
   "metadata": {
    "scrolled": true
   },
   "outputs": [],
   "source": [
    "file = pd.read_csv('./test/merged.csv')\n",
    "agr = file.drop(['Unnamed: 0'], axis=1)\n",
    "agr"
   ]
  },
  {
   "cell_type": "code",
   "execution_count": null,
   "id": "6abb71fe",
   "metadata": {},
   "outputs": [],
   "source": [
    "## save downloaded origin file \n",
    "agr.to_csv('./agriculture_origin.csv', index=False)"
   ]
  },
  {
   "cell_type": "code",
   "execution_count": null,
   "id": "45f3380f",
   "metadata": {
    "scrolled": true
   },
   "outputs": [],
   "source": [
    "origin_series_name=list(agr['Series_Name'].unique())\n",
    "origin_series_code=list(agr['Series_Code'].unique())\n",
    "origin_series = pd.DataFrame({'name': origin_series_name,'code': origin_series_code})"
   ]
  },
  {
   "cell_type": "code",
   "execution_count": null,
   "id": "1f550e72",
   "metadata": {
    "scrolled": true
   },
   "outputs": [],
   "source": [
    "origin_series"
   ]
  },
  {
   "cell_type": "code",
   "execution_count": null,
   "id": "a05e4541",
   "metadata": {},
   "outputs": [],
   "source": [
    "valid_code = ['BX.GRT.EXTA.CD.WD',\n",
    " 'BX.GRT.TECH.CD.WD',\n",
    " 'DC.DAC.TOTL.CD',\n",
    " 'DT.ODA.ALLD.CD',\n",
    " 'DT.ODA.ALLD.KD',\n",
    " 'DT.ODA.OATL.CD',\n",
    " 'DT.ODA.OATL.KD',\n",
    " 'DT.ODA.ODAT.CD',\n",
    " 'DT.ODA.ODAT.GI.ZS',\n",
    " 'DT.ODA.ODAT.GN.ZS',\n",
    " 'DT.ODA.ODAT.KD',\n",
    " 'DT.ODA.ODAT.MP.ZS',\n",
    " 'DT.ODA.ODAT.PC.ZS',\n",
    " 'DT.ODA.ODAT.XP.ZS',\n",
    " 'SE.ENR.PRSC.FM.ZS',\n",
    " 'SE.PRM.CMPT.ZS',\n",
    " 'SH.DYN.AIDS.ZS',\n",
    " 'SH.DYN.MORT',\n",
    " 'SH.STA.ANVC.ZS',\n",
    " 'SH.STA.MMRT',\n",
    " 'SH.STA.STNT.ZS',\n",
    " 'SH.TBS.INCD',\n",
    " 'SI.DST.FRST.20',\n",
    " 'SI.POV.DDAY',\n",
    " 'SL.EMP.VULN.ZS',\n",
    " 'SM.POP.NETM'\n",
    "]"
   ]
  },
  {
   "cell_type": "code",
   "execution_count": null,
   "id": "42526aa9",
   "metadata": {},
   "outputs": [],
   "source": [
    "list_of_df = []\n",
    "for code in valid_code:\n",
    "    tmp_df = agr[agr['Series_Code']==code]\n",
    "    list_of_df.append(tmp_df)\n",
    "agr_df = pd.concat(list_of_df)"
   ]
  },
  {
   "cell_type": "code",
   "execution_count": null,
   "id": "d3a0a086",
   "metadata": {},
   "outputs": [],
   "source": [
    "agr_df"
   ]
  },
  {
   "cell_type": "code",
   "execution_count": null,
   "id": "383c271d",
   "metadata": {},
   "outputs": [],
   "source": []
  }
 ],
 "metadata": {
  "kernelspec": {
   "display_name": "Python 3",
   "language": "python",
   "name": "python3"
  },
  "language_info": {
   "codemirror_mode": {
    "name": "ipython",
    "version": 3
   },
   "file_extension": ".py",
   "mimetype": "text/x-python",
   "name": "python",
   "nbconvert_exporter": "python",
   "pygments_lexer": "ipython3",
   "version": "3.8.10"
  }
 },
 "nbformat": 4,
 "nbformat_minor": 5
}
